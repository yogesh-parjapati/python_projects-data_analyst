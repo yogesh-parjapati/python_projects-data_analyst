{
 "cells": [
  {
   "cell_type": "code",
   "execution_count": 2,
   "id": "a1772944",
   "metadata": {},
   "outputs": [],
   "source": [
    "import numpy as np\n",
    "import pandas as pd\n",
    "import seaborn as sns\n",
    "import matplotlib.pyplot as plt\n",
    "\n",
    "import warnings\n",
    "warnings.filterwarnings(\"ignore\")"
   ]
  },
  {
   "cell_type": "code",
   "execution_count": 3,
   "id": "c2927ea6",
   "metadata": {},
   "outputs": [],
   "source": [
    "df=pd.read_csv(r\"C:\\Users\\pc\\Downloads\\archive (4)\\new_retail_data.csv\")"
   ]
  },
  {
   "cell_type": "code",
   "execution_count": 4,
   "id": "1d71c4df",
   "metadata": {},
   "outputs": [
    {
     "data": {
      "text/html": [
       "<div>\n",
       "<style scoped>\n",
       "    .dataframe tbody tr th:only-of-type {\n",
       "        vertical-align: middle;\n",
       "    }\n",
       "\n",
       "    .dataframe tbody tr th {\n",
       "        vertical-align: top;\n",
       "    }\n",
       "\n",
       "    .dataframe thead th {\n",
       "        text-align: right;\n",
       "    }\n",
       "</style>\n",
       "<table border=\"1\" class=\"dataframe\">\n",
       "  <thead>\n",
       "    <tr style=\"text-align: right;\">\n",
       "      <th></th>\n",
       "      <th>Customer_ID</th>\n",
       "      <th>Name</th>\n",
       "      <th>Phone</th>\n",
       "      <th>Address</th>\n",
       "      <th>City</th>\n",
       "      <th>State</th>\n",
       "      <th>Country</th>\n",
       "      <th>Age</th>\n",
       "      <th>Gender</th>\n",
       "      <th>Income</th>\n",
       "      <th>...</th>\n",
       "      <th>Month</th>\n",
       "      <th>Total_Purchases</th>\n",
       "      <th>Amount</th>\n",
       "      <th>Total_Amount</th>\n",
       "      <th>Product_Category</th>\n",
       "      <th>Product_Brand</th>\n",
       "      <th>Product_Type</th>\n",
       "      <th>Payment_Method</th>\n",
       "      <th>Order_Status</th>\n",
       "      <th>Ratings</th>\n",
       "    </tr>\n",
       "  </thead>\n",
       "  <tbody>\n",
       "    <tr>\n",
       "      <th>0</th>\n",
       "      <td>37249.0</td>\n",
       "      <td>Michelle Harrington</td>\n",
       "      <td>1.414787e+09</td>\n",
       "      <td>3959 Amanda Burgs</td>\n",
       "      <td>Dortmund</td>\n",
       "      <td>Berlin</td>\n",
       "      <td>Germany</td>\n",
       "      <td>21.0</td>\n",
       "      <td>Male</td>\n",
       "      <td>Low</td>\n",
       "      <td>...</td>\n",
       "      <td>September</td>\n",
       "      <td>3.0</td>\n",
       "      <td>108.0</td>\n",
       "      <td>324.0</td>\n",
       "      <td>Clothing</td>\n",
       "      <td>Nike</td>\n",
       "      <td>Shorts</td>\n",
       "      <td>Debit Card</td>\n",
       "      <td>Shipped</td>\n",
       "      <td>5.0</td>\n",
       "    </tr>\n",
       "    <tr>\n",
       "      <th>1</th>\n",
       "      <td>69749.0</td>\n",
       "      <td>Kelsey Hill</td>\n",
       "      <td>6.852900e+09</td>\n",
       "      <td>82072 Dawn Centers</td>\n",
       "      <td>Nottingham</td>\n",
       "      <td>England</td>\n",
       "      <td>UK</td>\n",
       "      <td>19.0</td>\n",
       "      <td>Female</td>\n",
       "      <td>Low</td>\n",
       "      <td>...</td>\n",
       "      <td>December</td>\n",
       "      <td>2.0</td>\n",
       "      <td>403.0</td>\n",
       "      <td>807.0</td>\n",
       "      <td>Electronics</td>\n",
       "      <td>Samsung</td>\n",
       "      <td>Tablet</td>\n",
       "      <td>Credit Card</td>\n",
       "      <td>Processing</td>\n",
       "      <td>4.0</td>\n",
       "    </tr>\n",
       "    <tr>\n",
       "      <th>2</th>\n",
       "      <td>30192.0</td>\n",
       "      <td>Scott Jensen</td>\n",
       "      <td>8.362160e+09</td>\n",
       "      <td>4133 Young Canyon</td>\n",
       "      <td>Geelong</td>\n",
       "      <td>New South Wales</td>\n",
       "      <td>Australia</td>\n",
       "      <td>48.0</td>\n",
       "      <td>Male</td>\n",
       "      <td>Low</td>\n",
       "      <td>...</td>\n",
       "      <td>April</td>\n",
       "      <td>3.0</td>\n",
       "      <td>354.0</td>\n",
       "      <td>1063.0</td>\n",
       "      <td>Books</td>\n",
       "      <td>Penguin Books</td>\n",
       "      <td>Children's</td>\n",
       "      <td>Credit Card</td>\n",
       "      <td>Processing</td>\n",
       "      <td>2.0</td>\n",
       "    </tr>\n",
       "    <tr>\n",
       "      <th>3</th>\n",
       "      <td>62101.0</td>\n",
       "      <td>Joseph Miller</td>\n",
       "      <td>2.776752e+09</td>\n",
       "      <td>8148 Thomas Creek Suite 100</td>\n",
       "      <td>Edmonton</td>\n",
       "      <td>Ontario</td>\n",
       "      <td>Canada</td>\n",
       "      <td>56.0</td>\n",
       "      <td>Male</td>\n",
       "      <td>High</td>\n",
       "      <td>...</td>\n",
       "      <td>May</td>\n",
       "      <td>7.0</td>\n",
       "      <td>352.0</td>\n",
       "      <td>2467.0</td>\n",
       "      <td>Home Decor</td>\n",
       "      <td>Home Depot</td>\n",
       "      <td>Tools</td>\n",
       "      <td>PayPal</td>\n",
       "      <td>Processing</td>\n",
       "      <td>4.0</td>\n",
       "    </tr>\n",
       "    <tr>\n",
       "      <th>4</th>\n",
       "      <td>27901.0</td>\n",
       "      <td>Debra Coleman</td>\n",
       "      <td>9.098268e+09</td>\n",
       "      <td>5813 Lori Ports Suite 269</td>\n",
       "      <td>Bristol</td>\n",
       "      <td>England</td>\n",
       "      <td>UK</td>\n",
       "      <td>22.0</td>\n",
       "      <td>Male</td>\n",
       "      <td>Low</td>\n",
       "      <td>...</td>\n",
       "      <td>January</td>\n",
       "      <td>2.0</td>\n",
       "      <td>124.0</td>\n",
       "      <td>249.0</td>\n",
       "      <td>Grocery</td>\n",
       "      <td>Nestle</td>\n",
       "      <td>Chocolate</td>\n",
       "      <td>Cash</td>\n",
       "      <td>Shipped</td>\n",
       "      <td>1.0</td>\n",
       "    </tr>\n",
       "    <tr>\n",
       "      <th>...</th>\n",
       "      <td>...</td>\n",
       "      <td>...</td>\n",
       "      <td>...</td>\n",
       "      <td>...</td>\n",
       "      <td>...</td>\n",
       "      <td>...</td>\n",
       "      <td>...</td>\n",
       "      <td>...</td>\n",
       "      <td>...</td>\n",
       "      <td>...</td>\n",
       "      <td>...</td>\n",
       "      <td>...</td>\n",
       "      <td>...</td>\n",
       "      <td>...</td>\n",
       "      <td>...</td>\n",
       "      <td>...</td>\n",
       "      <td>...</td>\n",
       "      <td>...</td>\n",
       "      <td>...</td>\n",
       "      <td>...</td>\n",
       "      <td>...</td>\n",
       "    </tr>\n",
       "    <tr>\n",
       "      <th>302005</th>\n",
       "      <td>12104.0</td>\n",
       "      <td>Meagan Ellis</td>\n",
       "      <td>7.466354e+09</td>\n",
       "      <td>389 Todd Path Apt. 159</td>\n",
       "      <td>Townsville</td>\n",
       "      <td>New South Wales</td>\n",
       "      <td>Australia</td>\n",
       "      <td>31.0</td>\n",
       "      <td>Male</td>\n",
       "      <td>Medium</td>\n",
       "      <td>...</td>\n",
       "      <td>January</td>\n",
       "      <td>5.0</td>\n",
       "      <td>195.0</td>\n",
       "      <td>974.0</td>\n",
       "      <td>Books</td>\n",
       "      <td>Penguin Books</td>\n",
       "      <td>Fiction</td>\n",
       "      <td>Cash</td>\n",
       "      <td>Processing</td>\n",
       "      <td>1.0</td>\n",
       "    </tr>\n",
       "    <tr>\n",
       "      <th>302006</th>\n",
       "      <td>69772.0</td>\n",
       "      <td>Mathew Beck</td>\n",
       "      <td>5.754305e+09</td>\n",
       "      <td>52809 Mark Forges</td>\n",
       "      <td>Hanover</td>\n",
       "      <td>Berlin</td>\n",
       "      <td>Germany</td>\n",
       "      <td>35.0</td>\n",
       "      <td>Female</td>\n",
       "      <td>Low</td>\n",
       "      <td>...</td>\n",
       "      <td>December</td>\n",
       "      <td>1.0</td>\n",
       "      <td>285.0</td>\n",
       "      <td>285.0</td>\n",
       "      <td>Electronics</td>\n",
       "      <td>Apple</td>\n",
       "      <td>Laptop</td>\n",
       "      <td>Cash</td>\n",
       "      <td>Processing</td>\n",
       "      <td>5.0</td>\n",
       "    </tr>\n",
       "    <tr>\n",
       "      <th>302007</th>\n",
       "      <td>28449.0</td>\n",
       "      <td>Daniel Lee</td>\n",
       "      <td>9.382530e+09</td>\n",
       "      <td>407 Aaron Crossing Suite 495</td>\n",
       "      <td>Brighton</td>\n",
       "      <td>England</td>\n",
       "      <td>UK</td>\n",
       "      <td>41.0</td>\n",
       "      <td>Male</td>\n",
       "      <td>Low</td>\n",
       "      <td>...</td>\n",
       "      <td>February</td>\n",
       "      <td>3.0</td>\n",
       "      <td>61.0</td>\n",
       "      <td>182.0</td>\n",
       "      <td>Clothing</td>\n",
       "      <td>Adidas</td>\n",
       "      <td>Jacket</td>\n",
       "      <td>Cash</td>\n",
       "      <td>Shipped</td>\n",
       "      <td>2.0</td>\n",
       "    </tr>\n",
       "    <tr>\n",
       "      <th>302008</th>\n",
       "      <td>45477.0</td>\n",
       "      <td>Patrick Wilson</td>\n",
       "      <td>9.373222e+09</td>\n",
       "      <td>3204 Baird Port</td>\n",
       "      <td>Halifax</td>\n",
       "      <td>Ontario</td>\n",
       "      <td>Canada</td>\n",
       "      <td>41.0</td>\n",
       "      <td>Male</td>\n",
       "      <td>Medium</td>\n",
       "      <td>...</td>\n",
       "      <td>September</td>\n",
       "      <td>1.0</td>\n",
       "      <td>121.0</td>\n",
       "      <td>121.0</td>\n",
       "      <td>Home Decor</td>\n",
       "      <td>IKEA</td>\n",
       "      <td>Furniture</td>\n",
       "      <td>Cash</td>\n",
       "      <td>Shipped</td>\n",
       "      <td>4.0</td>\n",
       "    </tr>\n",
       "    <tr>\n",
       "      <th>302009</th>\n",
       "      <td>53626.0</td>\n",
       "      <td>Dustin Merritt</td>\n",
       "      <td>9.518927e+09</td>\n",
       "      <td>143 Amanda Crescent</td>\n",
       "      <td>Tucson</td>\n",
       "      <td>West Virginia</td>\n",
       "      <td>USA</td>\n",
       "      <td>28.0</td>\n",
       "      <td>Female</td>\n",
       "      <td>Low</td>\n",
       "      <td>...</td>\n",
       "      <td>January</td>\n",
       "      <td>7.0</td>\n",
       "      <td>340.0</td>\n",
       "      <td>2382.0</td>\n",
       "      <td>Home Decor</td>\n",
       "      <td>Home Depot</td>\n",
       "      <td>Decorations</td>\n",
       "      <td>Cash</td>\n",
       "      <td>Shipped</td>\n",
       "      <td>2.0</td>\n",
       "    </tr>\n",
       "  </tbody>\n",
       "</table>\n",
       "<p>302010 rows × 23 columns</p>\n",
       "</div>"
      ],
      "text/plain": [
       "        Customer_ID                 Name         Phone  \\\n",
       "0           37249.0  Michelle Harrington  1.414787e+09   \n",
       "1           69749.0          Kelsey Hill  6.852900e+09   \n",
       "2           30192.0         Scott Jensen  8.362160e+09   \n",
       "3           62101.0        Joseph Miller  2.776752e+09   \n",
       "4           27901.0        Debra Coleman  9.098268e+09   \n",
       "...             ...                  ...           ...   \n",
       "302005      12104.0         Meagan Ellis  7.466354e+09   \n",
       "302006      69772.0          Mathew Beck  5.754305e+09   \n",
       "302007      28449.0           Daniel Lee  9.382530e+09   \n",
       "302008      45477.0       Patrick Wilson  9.373222e+09   \n",
       "302009      53626.0       Dustin Merritt  9.518927e+09   \n",
       "\n",
       "                             Address        City            State    Country  \\\n",
       "0                  3959 Amanda Burgs    Dortmund           Berlin    Germany   \n",
       "1                 82072 Dawn Centers  Nottingham          England         UK   \n",
       "2                  4133 Young Canyon     Geelong  New South Wales  Australia   \n",
       "3        8148 Thomas Creek Suite 100    Edmonton          Ontario     Canada   \n",
       "4          5813 Lori Ports Suite 269     Bristol          England         UK   \n",
       "...                              ...         ...              ...        ...   \n",
       "302005        389 Todd Path Apt. 159  Townsville  New South Wales  Australia   \n",
       "302006             52809 Mark Forges     Hanover           Berlin    Germany   \n",
       "302007  407 Aaron Crossing Suite 495    Brighton          England         UK   \n",
       "302008               3204 Baird Port     Halifax          Ontario     Canada   \n",
       "302009           143 Amanda Crescent      Tucson    West Virginia        USA   \n",
       "\n",
       "         Age  Gender  Income  ...      Month Total_Purchases  Amount  \\\n",
       "0       21.0    Male     Low  ...  September             3.0   108.0   \n",
       "1       19.0  Female     Low  ...   December             2.0   403.0   \n",
       "2       48.0    Male     Low  ...      April             3.0   354.0   \n",
       "3       56.0    Male    High  ...        May             7.0   352.0   \n",
       "4       22.0    Male     Low  ...    January             2.0   124.0   \n",
       "...      ...     ...     ...  ...        ...             ...     ...   \n",
       "302005  31.0    Male  Medium  ...    January             5.0   195.0   \n",
       "302006  35.0  Female     Low  ...   December             1.0   285.0   \n",
       "302007  41.0    Male     Low  ...   February             3.0    61.0   \n",
       "302008  41.0    Male  Medium  ...  September             1.0   121.0   \n",
       "302009  28.0  Female     Low  ...    January             7.0   340.0   \n",
       "\n",
       "       Total_Amount  Product_Category  Product_Brand  Product_Type  \\\n",
       "0             324.0          Clothing           Nike        Shorts   \n",
       "1             807.0       Electronics        Samsung        Tablet   \n",
       "2            1063.0             Books  Penguin Books    Children's   \n",
       "3            2467.0        Home Decor     Home Depot         Tools   \n",
       "4             249.0           Grocery         Nestle     Chocolate   \n",
       "...             ...               ...            ...           ...   \n",
       "302005        974.0             Books  Penguin Books       Fiction   \n",
       "302006        285.0       Electronics          Apple        Laptop   \n",
       "302007        182.0          Clothing         Adidas        Jacket   \n",
       "302008        121.0        Home Decor           IKEA     Furniture   \n",
       "302009       2382.0        Home Decor     Home Depot   Decorations   \n",
       "\n",
       "       Payment_Method Order_Status Ratings  \n",
       "0          Debit Card      Shipped     5.0  \n",
       "1         Credit Card   Processing     4.0  \n",
       "2         Credit Card   Processing     2.0  \n",
       "3              PayPal   Processing     4.0  \n",
       "4                Cash      Shipped     1.0  \n",
       "...               ...          ...     ...  \n",
       "302005           Cash   Processing     1.0  \n",
       "302006           Cash   Processing     5.0  \n",
       "302007           Cash      Shipped     2.0  \n",
       "302008           Cash      Shipped     4.0  \n",
       "302009           Cash      Shipped     2.0  \n",
       "\n",
       "[302010 rows x 23 columns]"
      ]
     },
     "execution_count": 4,
     "metadata": {},
     "output_type": "execute_result"
    }
   ],
   "source": [
    "df"
   ]
  },
  {
   "cell_type": "code",
   "execution_count": 5,
   "id": "dc2c9087",
   "metadata": {},
   "outputs": [
    {
     "name": "stdout",
     "output_type": "stream",
     "text": [
      "<class 'pandas.core.frame.DataFrame'>\n",
      "RangeIndex: 302010 entries, 0 to 302009\n",
      "Data columns (total 23 columns):\n",
      " #   Column            Non-Null Count   Dtype  \n",
      "---  ------            --------------   -----  \n",
      " 0   Customer_ID       301702 non-null  float64\n",
      " 1   Name              301628 non-null  object \n",
      " 2   Phone             301648 non-null  float64\n",
      " 3   Address           301695 non-null  object \n",
      " 4   City              301762 non-null  object \n",
      " 5   State             301729 non-null  object \n",
      " 6   Country           301739 non-null  object \n",
      " 7   Age               301837 non-null  float64\n",
      " 8   Gender            301693 non-null  object \n",
      " 9   Income            301720 non-null  object \n",
      " 10  Customer_Segment  301795 non-null  object \n",
      " 11  Date              301651 non-null  object \n",
      " 12  Year              301660 non-null  float64\n",
      " 13  Month             301737 non-null  object \n",
      " 14  Total_Purchases   301649 non-null  float64\n",
      " 15  Amount            301653 non-null  float64\n",
      " 16  Total_Amount      301660 non-null  float64\n",
      " 17  Product_Category  301727 non-null  object \n",
      " 18  Product_Brand     301729 non-null  object \n",
      " 19  Product_Type      302010 non-null  object \n",
      " 20  Payment_Method    301713 non-null  object \n",
      " 21  Order_Status      301775 non-null  object \n",
      " 22  Ratings           301826 non-null  float64\n",
      "dtypes: float64(8), object(15)\n",
      "memory usage: 53.0+ MB\n"
     ]
    }
   ],
   "source": [
    "df.info()"
   ]
  },
  {
   "cell_type": "markdown",
   "id": "4d6fd300",
   "metadata": {},
   "source": [
    "# data type change"
   ]
  },
  {
   "cell_type": "code",
   "execution_count": 6,
   "id": "2f44f23c",
   "metadata": {},
   "outputs": [],
   "source": [
    "df[\"Date\"]=pd.to_datetime(df[\"Date\"])"
   ]
  },
  {
   "cell_type": "code",
   "execution_count": 7,
   "id": "fbfd8c10",
   "metadata": {},
   "outputs": [
    {
     "name": "stdout",
     "output_type": "stream",
     "text": [
      "<class 'pandas.core.frame.DataFrame'>\n",
      "RangeIndex: 302010 entries, 0 to 302009\n",
      "Data columns (total 23 columns):\n",
      " #   Column            Non-Null Count   Dtype         \n",
      "---  ------            --------------   -----         \n",
      " 0   Customer_ID       301702 non-null  float64       \n",
      " 1   Name              301628 non-null  object        \n",
      " 2   Phone             301648 non-null  float64       \n",
      " 3   Address           301695 non-null  object        \n",
      " 4   City              301762 non-null  object        \n",
      " 5   State             301729 non-null  object        \n",
      " 6   Country           301739 non-null  object        \n",
      " 7   Age               301837 non-null  float64       \n",
      " 8   Gender            301693 non-null  object        \n",
      " 9   Income            301720 non-null  object        \n",
      " 10  Customer_Segment  301795 non-null  object        \n",
      " 11  Date              301651 non-null  datetime64[ns]\n",
      " 12  Year              301660 non-null  float64       \n",
      " 13  Month             301737 non-null  object        \n",
      " 14  Total_Purchases   301649 non-null  float64       \n",
      " 15  Amount            301653 non-null  float64       \n",
      " 16  Total_Amount      301660 non-null  float64       \n",
      " 17  Product_Category  301727 non-null  object        \n",
      " 18  Product_Brand     301729 non-null  object        \n",
      " 19  Product_Type      302010 non-null  object        \n",
      " 20  Payment_Method    301713 non-null  object        \n",
      " 21  Order_Status      301775 non-null  object        \n",
      " 22  Ratings           301826 non-null  float64       \n",
      "dtypes: datetime64[ns](1), float64(8), object(14)\n",
      "memory usage: 53.0+ MB\n"
     ]
    }
   ],
   "source": [
    "df.info()"
   ]
  },
  {
   "cell_type": "markdown",
   "id": "9aaf3474",
   "metadata": {},
   "source": [
    "# check null value"
   ]
  },
  {
   "cell_type": "code",
   "execution_count": 8,
   "id": "575d70b7",
   "metadata": {},
   "outputs": [
    {
     "data": {
      "text/plain": [
       "Customer_ID         308\n",
       "Name                382\n",
       "Phone               362\n",
       "Address             315\n",
       "City                248\n",
       "State               281\n",
       "Country             271\n",
       "Age                 173\n",
       "Gender              317\n",
       "Income              290\n",
       "Customer_Segment    215\n",
       "Date                359\n",
       "Year                350\n",
       "Month               273\n",
       "Total_Purchases     361\n",
       "Amount              357\n",
       "Total_Amount        350\n",
       "Product_Category    283\n",
       "Product_Brand       281\n",
       "Product_Type          0\n",
       "Payment_Method      297\n",
       "Order_Status        235\n",
       "Ratings             184\n",
       "dtype: int64"
      ]
     },
     "execution_count": 8,
     "metadata": {},
     "output_type": "execute_result"
    }
   ],
   "source": [
    "df.isnull().sum()"
   ]
  },
  {
   "cell_type": "code",
   "execution_count": 9,
   "id": "53c973e6",
   "metadata": {},
   "outputs": [
    {
     "data": {
      "text/plain": [
       "Customer_ID         0.000010\n",
       "Name                0.000013\n",
       "Phone               0.000012\n",
       "Address             0.000010\n",
       "City                0.000008\n",
       "State               0.000009\n",
       "Country             0.000009\n",
       "Age                 0.000006\n",
       "Gender              0.000010\n",
       "Income              0.000010\n",
       "Customer_Segment    0.000007\n",
       "Date                0.000012\n",
       "Year                0.000012\n",
       "Month               0.000009\n",
       "Total_Purchases     0.000012\n",
       "Amount              0.000012\n",
       "Total_Amount        0.000012\n",
       "Product_Category    0.000009\n",
       "Product_Brand       0.000009\n",
       "Product_Type        0.000000\n",
       "Payment_Method      0.000010\n",
       "Order_Status        0.000008\n",
       "Ratings             0.000006\n",
       "dtype: float64"
      ]
     },
     "execution_count": 9,
     "metadata": {},
     "output_type": "execute_result"
    }
   ],
   "source": [
    "df.isnull().sum()/df.shape[0]/100"
   ]
  },
  {
   "cell_type": "markdown",
   "id": "b2b13539",
   "metadata": {},
   "source": [
    "# Delete null values"
   ]
  },
  {
   "cell_type": "code",
   "execution_count": 10,
   "id": "df0bac63",
   "metadata": {},
   "outputs": [],
   "source": [
    "df=df.dropna()\n"
   ]
  },
  {
   "cell_type": "code",
   "execution_count": 11,
   "id": "240bbdd1",
   "metadata": {},
   "outputs": [
    {
     "data": {
      "text/plain": [
       "Customer_ID         0\n",
       "Name                0\n",
       "Phone               0\n",
       "Address             0\n",
       "City                0\n",
       "State               0\n",
       "Country             0\n",
       "Age                 0\n",
       "Gender              0\n",
       "Income              0\n",
       "Customer_Segment    0\n",
       "Date                0\n",
       "Year                0\n",
       "Month               0\n",
       "Total_Purchases     0\n",
       "Amount              0\n",
       "Total_Amount        0\n",
       "Product_Category    0\n",
       "Product_Brand       0\n",
       "Product_Type        0\n",
       "Payment_Method      0\n",
       "Order_Status        0\n",
       "Ratings             0\n",
       "dtype: int64"
      ]
     },
     "execution_count": 11,
     "metadata": {},
     "output_type": "execute_result"
    }
   ],
   "source": [
    "df.isnull().sum()"
   ]
  },
  {
   "cell_type": "markdown",
   "id": "6fb9c0dc",
   "metadata": {},
   "source": [
    "# hendel outlier"
   ]
  },
  {
   "cell_type": "code",
   "execution_count": 12,
   "id": "a1bf4ff3",
   "metadata": {},
   "outputs": [
    {
     "data": {
      "text/html": [
       "<div>\n",
       "<style scoped>\n",
       "    .dataframe tbody tr th:only-of-type {\n",
       "        vertical-align: middle;\n",
       "    }\n",
       "\n",
       "    .dataframe tbody tr th {\n",
       "        vertical-align: top;\n",
       "    }\n",
       "\n",
       "    .dataframe thead th {\n",
       "        text-align: right;\n",
       "    }\n",
       "</style>\n",
       "<table border=\"1\" class=\"dataframe\">\n",
       "  <thead>\n",
       "    <tr style=\"text-align: right;\">\n",
       "      <th></th>\n",
       "      <th>Customer_ID</th>\n",
       "      <th>Phone</th>\n",
       "      <th>Age</th>\n",
       "      <th>Date</th>\n",
       "      <th>Year</th>\n",
       "      <th>Total_Purchases</th>\n",
       "      <th>Amount</th>\n",
       "      <th>Total_Amount</th>\n",
       "      <th>Ratings</th>\n",
       "    </tr>\n",
       "  </thead>\n",
       "  <tbody>\n",
       "    <tr>\n",
       "      <th>count</th>\n",
       "      <td>295576.000000</td>\n",
       "      <td>2.955760e+05</td>\n",
       "      <td>295576.000000</td>\n",
       "      <td>295576</td>\n",
       "      <td>295576.000000</td>\n",
       "      <td>295576.000000</td>\n",
       "      <td>295576.000000</td>\n",
       "      <td>295576.000000</td>\n",
       "      <td>295576.000000</td>\n",
       "    </tr>\n",
       "    <tr>\n",
       "      <th>mean</th>\n",
       "      <td>55016.489519</td>\n",
       "      <td>5.500883e+09</td>\n",
       "      <td>35.467467</td>\n",
       "      <td>2023-08-30 16:16:07.353235456</td>\n",
       "      <td>2023.165132</td>\n",
       "      <td>5.360053</td>\n",
       "      <td>255.124344</td>\n",
       "      <td>1367.612607</td>\n",
       "      <td>3.162310</td>\n",
       "    </tr>\n",
       "    <tr>\n",
       "      <th>min</th>\n",
       "      <td>10000.000000</td>\n",
       "      <td>1.000049e+09</td>\n",
       "      <td>18.000000</td>\n",
       "      <td>2023-03-01 00:00:00</td>\n",
       "      <td>2023.000000</td>\n",
       "      <td>1.000000</td>\n",
       "      <td>10.000000</td>\n",
       "      <td>10.000000</td>\n",
       "      <td>1.000000</td>\n",
       "    </tr>\n",
       "    <tr>\n",
       "      <th>25%</th>\n",
       "      <td>32479.000000</td>\n",
       "      <td>3.253794e+09</td>\n",
       "      <td>22.000000</td>\n",
       "      <td>2023-05-31 00:00:00</td>\n",
       "      <td>2023.000000</td>\n",
       "      <td>3.000000</td>\n",
       "      <td>133.000000</td>\n",
       "      <td>439.000000</td>\n",
       "      <td>2.000000</td>\n",
       "    </tr>\n",
       "    <tr>\n",
       "      <th>50%</th>\n",
       "      <td>55028.000000</td>\n",
       "      <td>5.504480e+09</td>\n",
       "      <td>32.000000</td>\n",
       "      <td>2023-08-31 00:00:00</td>\n",
       "      <td>2023.000000</td>\n",
       "      <td>5.000000</td>\n",
       "      <td>255.000000</td>\n",
       "      <td>1041.000000</td>\n",
       "      <td>3.000000</td>\n",
       "    </tr>\n",
       "    <tr>\n",
       "      <th>75%</th>\n",
       "      <td>77519.250000</td>\n",
       "      <td>7.749982e+09</td>\n",
       "      <td>46.000000</td>\n",
       "      <td>2023-11-30 00:00:00</td>\n",
       "      <td>2023.000000</td>\n",
       "      <td>8.000000</td>\n",
       "      <td>378.000000</td>\n",
       "      <td>2029.000000</td>\n",
       "      <td>4.000000</td>\n",
       "    </tr>\n",
       "    <tr>\n",
       "      <th>max</th>\n",
       "      <td>99999.000000</td>\n",
       "      <td>9.999996e+09</td>\n",
       "      <td>70.000000</td>\n",
       "      <td>2024-02-29 00:00:00</td>\n",
       "      <td>2024.000000</td>\n",
       "      <td>10.000000</td>\n",
       "      <td>500.000000</td>\n",
       "      <td>5000.000000</td>\n",
       "      <td>5.000000</td>\n",
       "    </tr>\n",
       "    <tr>\n",
       "      <th>std</th>\n",
       "      <td>26008.364741</td>\n",
       "      <td>2.596138e+09</td>\n",
       "      <td>15.017935</td>\n",
       "      <td>NaN</td>\n",
       "      <td>0.371300</td>\n",
       "      <td>2.868502</td>\n",
       "      <td>141.376702</td>\n",
       "      <td>1128.913602</td>\n",
       "      <td>1.320795</td>\n",
       "    </tr>\n",
       "  </tbody>\n",
       "</table>\n",
       "</div>"
      ],
      "text/plain": [
       "         Customer_ID         Phone            Age  \\\n",
       "count  295576.000000  2.955760e+05  295576.000000   \n",
       "mean    55016.489519  5.500883e+09      35.467467   \n",
       "min     10000.000000  1.000049e+09      18.000000   \n",
       "25%     32479.000000  3.253794e+09      22.000000   \n",
       "50%     55028.000000  5.504480e+09      32.000000   \n",
       "75%     77519.250000  7.749982e+09      46.000000   \n",
       "max     99999.000000  9.999996e+09      70.000000   \n",
       "std     26008.364741  2.596138e+09      15.017935   \n",
       "\n",
       "                                Date           Year  Total_Purchases  \\\n",
       "count                         295576  295576.000000    295576.000000   \n",
       "mean   2023-08-30 16:16:07.353235456    2023.165132         5.360053   \n",
       "min              2023-03-01 00:00:00    2023.000000         1.000000   \n",
       "25%              2023-05-31 00:00:00    2023.000000         3.000000   \n",
       "50%              2023-08-31 00:00:00    2023.000000         5.000000   \n",
       "75%              2023-11-30 00:00:00    2023.000000         8.000000   \n",
       "max              2024-02-29 00:00:00    2024.000000        10.000000   \n",
       "std                              NaN       0.371300         2.868502   \n",
       "\n",
       "              Amount   Total_Amount        Ratings  \n",
       "count  295576.000000  295576.000000  295576.000000  \n",
       "mean      255.124344    1367.612607       3.162310  \n",
       "min        10.000000      10.000000       1.000000  \n",
       "25%       133.000000     439.000000       2.000000  \n",
       "50%       255.000000    1041.000000       3.000000  \n",
       "75%       378.000000    2029.000000       4.000000  \n",
       "max       500.000000    5000.000000       5.000000  \n",
       "std       141.376702    1128.913602       1.320795  "
      ]
     },
     "execution_count": 12,
     "metadata": {},
     "output_type": "execute_result"
    }
   ],
   "source": [
    "df.describe()"
   ]
  },
  {
   "cell_type": "markdown",
   "id": "aa8a4064",
   "metadata": {},
   "source": [
    "# Age"
   ]
  },
  {
   "cell_type": "code",
   "execution_count": 13,
   "id": "88fe70cb",
   "metadata": {},
   "outputs": [],
   "source": [
    "Min= df[\"Age\"].min()\n",
    "q1 = df[\"Age\"].quantile(0.25)\n",
    "q2 = df[\"Age\"].quantile(0.50)\n",
    "q3 = df[\"Age\"].quantile(0.75)\n",
    "Max= df[\"Age\"].max()\n",
    "\n",
    "IQR=q3-q2\n",
    "\n",
    "upper_fence=q3+(1.5*IQR)\n",
    "lower_fence=q1-(1.5*IQR)\n"
   ]
  },
  {
   "cell_type": "code",
   "execution_count": 14,
   "id": "7bd706eb",
   "metadata": {},
   "outputs": [
    {
     "name": "stdout",
     "output_type": "stream",
     "text": [
      "18.0\n",
      "22.0\n",
      "32.0\n",
      "46.0\n",
      "14.0\n"
     ]
    }
   ],
   "source": [
    "print(Min)\n",
    "print(q1)\n",
    "print(q2)\n",
    "print(q3)\n",
    "\n",
    "print(IQR)"
   ]
  },
  {
   "cell_type": "code",
   "execution_count": 15,
   "id": "af73cabe",
   "metadata": {},
   "outputs": [
    {
     "name": "stdout",
     "output_type": "stream",
     "text": [
      "67.0\n",
      "1.0\n"
     ]
    }
   ],
   "source": [
    "print(upper_fence)\n",
    "print(lower_fence)"
   ]
  },
  {
   "cell_type": "code",
   "execution_count": 16,
   "id": "134b97d5",
   "metadata": {},
   "outputs": [
    {
     "data": {
      "text/plain": [
       "7791"
      ]
     },
     "execution_count": 16,
     "metadata": {},
     "output_type": "execute_result"
    }
   ],
   "source": [
    "df[df[\"Age\"]>upper_fence].shape[0]"
   ]
  },
  {
   "cell_type": "code",
   "execution_count": 17,
   "id": "27e7b278",
   "metadata": {},
   "outputs": [
    {
     "data": {
      "text/plain": [
       "2.6358703007010043"
      ]
     },
     "execution_count": 17,
     "metadata": {},
     "output_type": "execute_result"
    }
   ],
   "source": [
    "(7791/df.shape[0])*100"
   ]
  },
  {
   "cell_type": "code",
   "execution_count": 18,
   "id": "9c5a3364",
   "metadata": {},
   "outputs": [],
   "source": [
    "def hendel(a):\n",
    "    if a>upper_fence:\n",
    "        return 67\n",
    "    else:\n",
    "        return a"
   ]
  },
  {
   "cell_type": "code",
   "execution_count": 19,
   "id": "16c0984c",
   "metadata": {},
   "outputs": [],
   "source": [
    "df[\"Age\"]=df[\"Age\"].apply(hendel)"
   ]
  },
  {
   "cell_type": "code",
   "execution_count": 20,
   "id": "31518912",
   "metadata": {},
   "outputs": [
    {
     "data": {
      "text/html": [
       "<div>\n",
       "<style scoped>\n",
       "    .dataframe tbody tr th:only-of-type {\n",
       "        vertical-align: middle;\n",
       "    }\n",
       "\n",
       "    .dataframe tbody tr th {\n",
       "        vertical-align: top;\n",
       "    }\n",
       "\n",
       "    .dataframe thead th {\n",
       "        text-align: right;\n",
       "    }\n",
       "</style>\n",
       "<table border=\"1\" class=\"dataframe\">\n",
       "  <thead>\n",
       "    <tr style=\"text-align: right;\">\n",
       "      <th></th>\n",
       "      <th>Customer_ID</th>\n",
       "      <th>Name</th>\n",
       "      <th>Phone</th>\n",
       "      <th>Address</th>\n",
       "      <th>City</th>\n",
       "      <th>State</th>\n",
       "      <th>Country</th>\n",
       "      <th>Age</th>\n",
       "      <th>Gender</th>\n",
       "      <th>Income</th>\n",
       "      <th>...</th>\n",
       "      <th>Month</th>\n",
       "      <th>Total_Purchases</th>\n",
       "      <th>Amount</th>\n",
       "      <th>Total_Amount</th>\n",
       "      <th>Product_Category</th>\n",
       "      <th>Product_Brand</th>\n",
       "      <th>Product_Type</th>\n",
       "      <th>Payment_Method</th>\n",
       "      <th>Order_Status</th>\n",
       "      <th>Ratings</th>\n",
       "    </tr>\n",
       "  </thead>\n",
       "  <tbody>\n",
       "  </tbody>\n",
       "</table>\n",
       "<p>0 rows × 23 columns</p>\n",
       "</div>"
      ],
      "text/plain": [
       "Empty DataFrame\n",
       "Columns: [Customer_ID, Name, Phone, Address, City, State, Country, Age, Gender, Income, Customer_Segment, Date, Year, Month, Total_Purchases, Amount, Total_Amount, Product_Category, Product_Brand, Product_Type, Payment_Method, Order_Status, Ratings]\n",
       "Index: []\n",
       "\n",
       "[0 rows x 23 columns]"
      ]
     },
     "execution_count": 20,
     "metadata": {},
     "output_type": "execute_result"
    }
   ],
   "source": [
    "df[df[\"Age\"]>upper_fence]"
   ]
  },
  {
   "cell_type": "code",
   "execution_count": 21,
   "id": "a8a45018",
   "metadata": {},
   "outputs": [
    {
     "data": {
      "text/plain": [
       "<Axes: xlabel='Age'>"
      ]
     },
     "execution_count": 21,
     "metadata": {},
     "output_type": "execute_result"
    },
    {
     "data": {
      "image/png": "[encoded data removed]",
      "text/plain": [
       "<Figure size 640x480 with 1 Axes>"
      ]
     },
     "metadata": {},
     "output_type": "display_data"
    }
   ],
   "source": [
    "sns.boxplot(x=\"Age\",data=df)"
   ]
  },
  {
   "cell_type": "markdown",
   "id": "e9a04bbb",
   "metadata": {},
   "source": [
    "# Total_Purchases"
   ]
  },
  {
   "cell_type": "code",
   "execution_count": 22,
   "id": "29e3aad5",
   "metadata": {},
   "outputs": [],
   "source": [
    "Min= df[\"Total_Purchases\"].min()\n",
    "q1 = df[\"Total_Purchases\"].quantile(0.25)\n",
    "q2 = df[\"Total_Purchases\"].quantile(0.50)\n",
    "q3 = df[\"Total_Purchases\"].quantile(0.75)\n",
    "Max= df[\"Total_Purchases\"].max()\n",
    "\n",
    "IQR=q3-q2\n",
    "\n",
    "upper_fence=q3+(1.5*IQR)\n",
    "lower_fence=q1-(1.5*IQR)"
   ]
  },
  {
   "cell_type": "code",
   "execution_count": 23,
   "id": "7e049403",
   "metadata": {},
   "outputs": [
    {
     "name": "stdout",
     "output_type": "stream",
     "text": [
      "1.0\n",
      "3.0\n",
      "5.0\n",
      "8.0\n",
      "10.0\n",
      "3.0\n"
     ]
    }
   ],
   "source": [
    "print(Min)\n",
    "print(q1)\n",
    "print(q2)\n",
    "print(q3)\n",
    "print(Max)\n",
    "\n",
    "print(IQR)\n"
   ]
  },
  {
   "cell_type": "code",
   "execution_count": 24,
   "id": "25a84c5d",
   "metadata": {},
   "outputs": [
    {
     "name": "stdout",
     "output_type": "stream",
     "text": [
      "12.5\n",
      "-1.5\n"
     ]
    }
   ],
   "source": [
    "print(upper_fence)\n",
    "print(lower_fence)"
   ]
  },
  {
   "cell_type": "code",
   "execution_count": 25,
   "id": "dd40cdde",
   "metadata": {},
   "outputs": [
    {
     "data": {
      "text/html": [
       "<div>\n",
       "<style scoped>\n",
       "    .dataframe tbody tr th:only-of-type {\n",
       "        vertical-align: middle;\n",
       "    }\n",
       "\n",
       "    .dataframe tbody tr th {\n",
       "        vertical-align: top;\n",
       "    }\n",
       "\n",
       "    .dataframe thead th {\n",
       "        text-align: right;\n",
       "    }\n",
       "</style>\n",
       "<table border=\"1\" class=\"dataframe\">\n",
       "  <thead>\n",
       "    <tr style=\"text-align: right;\">\n",
       "      <th></th>\n",
       "      <th>Customer_ID</th>\n",
       "      <th>Name</th>\n",
       "      <th>Phone</th>\n",
       "      <th>Address</th>\n",
       "      <th>City</th>\n",
       "      <th>State</th>\n",
       "      <th>Country</th>\n",
       "      <th>Age</th>\n",
       "      <th>Gender</th>\n",
       "      <th>Income</th>\n",
       "      <th>...</th>\n",
       "      <th>Month</th>\n",
       "      <th>Total_Purchases</th>\n",
       "      <th>Amount</th>\n",
       "      <th>Total_Amount</th>\n",
       "      <th>Product_Category</th>\n",
       "      <th>Product_Brand</th>\n",
       "      <th>Product_Type</th>\n",
       "      <th>Payment_Method</th>\n",
       "      <th>Order_Status</th>\n",
       "      <th>Ratings</th>\n",
       "    </tr>\n",
       "  </thead>\n",
       "  <tbody>\n",
       "  </tbody>\n",
       "</table>\n",
       "<p>0 rows × 23 columns</p>\n",
       "</div>"
      ],
      "text/plain": [
       "Empty DataFrame\n",
       "Columns: [Customer_ID, Name, Phone, Address, City, State, Country, Age, Gender, Income, Customer_Segment, Date, Year, Month, Total_Purchases, Amount, Total_Amount, Product_Category, Product_Brand, Product_Type, Payment_Method, Order_Status, Ratings]\n",
       "Index: []\n",
       "\n",
       "[0 rows x 23 columns]"
      ]
     },
     "execution_count": 25,
     "metadata": {},
     "output_type": "execute_result"
    }
   ],
   "source": [
    "df[df[\"Total_Purchases\"]>upper_fence]"
   ]
  },
  {
   "cell_type": "code",
   "execution_count": 26,
   "id": "a7375cd2",
   "metadata": {},
   "outputs": [
    {
     "data": {
      "text/html": [
       "<div>\n",
       "<style scoped>\n",
       "    .dataframe tbody tr th:only-of-type {\n",
       "        vertical-align: middle;\n",
       "    }\n",
       "\n",
       "    .dataframe tbody tr th {\n",
       "        vertical-align: top;\n",
       "    }\n",
       "\n",
       "    .dataframe thead th {\n",
       "        text-align: right;\n",
       "    }\n",
       "</style>\n",
       "<table border=\"1\" class=\"dataframe\">\n",
       "  <thead>\n",
       "    <tr style=\"text-align: right;\">\n",
       "      <th></th>\n",
       "      <th>Customer_ID</th>\n",
       "      <th>Name</th>\n",
       "      <th>Phone</th>\n",
       "      <th>Address</th>\n",
       "      <th>City</th>\n",
       "      <th>State</th>\n",
       "      <th>Country</th>\n",
       "      <th>Age</th>\n",
       "      <th>Gender</th>\n",
       "      <th>Income</th>\n",
       "      <th>...</th>\n",
       "      <th>Month</th>\n",
       "      <th>Total_Purchases</th>\n",
       "      <th>Amount</th>\n",
       "      <th>Total_Amount</th>\n",
       "      <th>Product_Category</th>\n",
       "      <th>Product_Brand</th>\n",
       "      <th>Product_Type</th>\n",
       "      <th>Payment_Method</th>\n",
       "      <th>Order_Status</th>\n",
       "      <th>Ratings</th>\n",
       "    </tr>\n",
       "  </thead>\n",
       "  <tbody>\n",
       "  </tbody>\n",
       "</table>\n",
       "<p>0 rows × 23 columns</p>\n",
       "</div>"
      ],
      "text/plain": [
       "Empty DataFrame\n",
       "Columns: [Customer_ID, Name, Phone, Address, City, State, Country, Age, Gender, Income, Customer_Segment, Date, Year, Month, Total_Purchases, Amount, Total_Amount, Product_Category, Product_Brand, Product_Type, Payment_Method, Order_Status, Ratings]\n",
       "Index: []\n",
       "\n",
       "[0 rows x 23 columns]"
      ]
     },
     "execution_count": 26,
     "metadata": {},
     "output_type": "execute_result"
    }
   ],
   "source": [
    "df[df[\"Total_Purchases\"]< lower_fence]"
   ]
  },
  {
   "cell_type": "markdown",
   "id": "ee4cc726",
   "metadata": {},
   "source": [
    "# Amount"
   ]
  },
  {
   "cell_type": "code",
   "execution_count": 27,
   "id": "9d606b55",
   "metadata": {},
   "outputs": [],
   "source": [
    "Min= df[\"Amount\"].min()\n",
    "q1 = df[\"Amount\"].quantile(0.25)\n",
    "q2 = df[\"Amount\"].quantile(0.50)\n",
    "q3 = df[\"Amount\"].quantile(0.75)\n",
    "Max= df[\"Amount\"].max()\n",
    "\n",
    "IQR=q3-q2\n",
    "\n",
    "upper_fence=q3+(1.5*IQR)\n",
    "lower_fence=q1-(1.5*IQR)"
   ]
  },
  {
   "cell_type": "code",
   "execution_count": 28,
   "id": "b601d4d3",
   "metadata": {},
   "outputs": [
    {
     "name": "stdout",
     "output_type": "stream",
     "text": [
      "10.0\n",
      "133.0\n",
      "255.0\n",
      "378.0\n",
      "500.0\n",
      "123.0\n"
     ]
    }
   ],
   "source": [
    "print(Min)\n",
    "print(q1)\n",
    "print(q2)\n",
    "print(q3)\n",
    "print(Max)\n",
    "\n",
    "print(IQR)"
   ]
  },
  {
   "cell_type": "code",
   "execution_count": 29,
   "id": "99444397",
   "metadata": {},
   "outputs": [
    {
     "name": "stdout",
     "output_type": "stream",
     "text": [
      "562.5\n",
      "-51.5\n"
     ]
    }
   ],
   "source": [
    "print(upper_fence)\n",
    "print(lower_fence)"
   ]
  },
  {
   "cell_type": "code",
   "execution_count": 30,
   "id": "dc7651cd",
   "metadata": {},
   "outputs": [
    {
     "data": {
      "text/html": [
       "<div>\n",
       "<style scoped>\n",
       "    .dataframe tbody tr th:only-of-type {\n",
       "        vertical-align: middle;\n",
       "    }\n",
       "\n",
       "    .dataframe tbody tr th {\n",
       "        vertical-align: top;\n",
       "    }\n",
       "\n",
       "    .dataframe thead th {\n",
       "        text-align: right;\n",
       "    }\n",
       "</style>\n",
       "<table border=\"1\" class=\"dataframe\">\n",
       "  <thead>\n",
       "    <tr style=\"text-align: right;\">\n",
       "      <th></th>\n",
       "      <th>Customer_ID</th>\n",
       "      <th>Name</th>\n",
       "      <th>Phone</th>\n",
       "      <th>Address</th>\n",
       "      <th>City</th>\n",
       "      <th>State</th>\n",
       "      <th>Country</th>\n",
       "      <th>Age</th>\n",
       "      <th>Gender</th>\n",
       "      <th>Income</th>\n",
       "      <th>...</th>\n",
       "      <th>Month</th>\n",
       "      <th>Total_Purchases</th>\n",
       "      <th>Amount</th>\n",
       "      <th>Total_Amount</th>\n",
       "      <th>Product_Category</th>\n",
       "      <th>Product_Brand</th>\n",
       "      <th>Product_Type</th>\n",
       "      <th>Payment_Method</th>\n",
       "      <th>Order_Status</th>\n",
       "      <th>Ratings</th>\n",
       "    </tr>\n",
       "  </thead>\n",
       "  <tbody>\n",
       "  </tbody>\n",
       "</table>\n",
       "<p>0 rows × 23 columns</p>\n",
       "</div>"
      ],
      "text/plain": [
       "Empty DataFrame\n",
       "Columns: [Customer_ID, Name, Phone, Address, City, State, Country, Age, Gender, Income, Customer_Segment, Date, Year, Month, Total_Purchases, Amount, Total_Amount, Product_Category, Product_Brand, Product_Type, Payment_Method, Order_Status, Ratings]\n",
       "Index: []\n",
       "\n",
       "[0 rows x 23 columns]"
      ]
     },
     "execution_count": 30,
     "metadata": {},
     "output_type": "execute_result"
    }
   ],
   "source": [
    "df[df[\"Amount\"]>upper_fence]"
   ]
  },
  {
   "cell_type": "code",
   "execution_count": 31,
   "id": "37ad45b8",
   "metadata": {},
   "outputs": [
    {
     "data": {
      "text/html": [
       "<div>\n",
       "<style scoped>\n",
       "    .dataframe tbody tr th:only-of-type {\n",
       "        vertical-align: middle;\n",
       "    }\n",
       "\n",
       "    .dataframe tbody tr th {\n",
       "        vertical-align: top;\n",
       "    }\n",
       "\n",
       "    .dataframe thead th {\n",
       "        text-align: right;\n",
       "    }\n",
       "</style>\n",
       "<table border=\"1\" class=\"dataframe\">\n",
       "  <thead>\n",
       "    <tr style=\"text-align: right;\">\n",
       "      <th></th>\n",
       "      <th>Customer_ID</th>\n",
       "      <th>Name</th>\n",
       "      <th>Phone</th>\n",
       "      <th>Address</th>\n",
       "      <th>City</th>\n",
       "      <th>State</th>\n",
       "      <th>Country</th>\n",
       "      <th>Age</th>\n",
       "      <th>Gender</th>\n",
       "      <th>Income</th>\n",
       "      <th>...</th>\n",
       "      <th>Month</th>\n",
       "      <th>Total_Purchases</th>\n",
       "      <th>Amount</th>\n",
       "      <th>Total_Amount</th>\n",
       "      <th>Product_Category</th>\n",
       "      <th>Product_Brand</th>\n",
       "      <th>Product_Type</th>\n",
       "      <th>Payment_Method</th>\n",
       "      <th>Order_Status</th>\n",
       "      <th>Ratings</th>\n",
       "    </tr>\n",
       "  </thead>\n",
       "  <tbody>\n",
       "  </tbody>\n",
       "</table>\n",
       "<p>0 rows × 23 columns</p>\n",
       "</div>"
      ],
      "text/plain": [
       "Empty DataFrame\n",
       "Columns: [Customer_ID, Name, Phone, Address, City, State, Country, Age, Gender, Income, Customer_Segment, Date, Year, Month, Total_Purchases, Amount, Total_Amount, Product_Category, Product_Brand, Product_Type, Payment_Method, Order_Status, Ratings]\n",
       "Index: []\n",
       "\n",
       "[0 rows x 23 columns]"
      ]
     },
     "execution_count": 31,
     "metadata": {},
     "output_type": "execute_result"
    }
   ],
   "source": [
    "df[df[\"Amount\"]< lower_fence]"
   ]
  },
  {
   "cell_type": "markdown",
   "id": "24554717",
   "metadata": {},
   "source": [
    "# Total_Amount"
   ]
  },
  {
   "cell_type": "code",
   "execution_count": 32,
   "id": "2edb1c4c",
   "metadata": {},
   "outputs": [],
   "source": [
    "Min= df[\"Total_Amount\"].min()\n",
    "q1 = df[\"Total_Amount\"].quantile(0.25)\n",
    "q2 = df[\"Total_Amount\"].quantile(0.50)\n",
    "q3 = df[\"Total_Amount\"].quantile(0.75)\n",
    "Max= df[\"Total_Amount\"].max()\n",
    "\n",
    "IQR=q3-q2\n",
    "\n",
    "upper_fence=q3+(1.5*IQR)\n",
    "lower_fence=q1-(1.5*IQR)"
   ]
  },
  {
   "cell_type": "code",
   "execution_count": 33,
   "id": "59d9d232",
   "metadata": {},
   "outputs": [
    {
     "name": "stdout",
     "output_type": "stream",
     "text": [
      "10.0\n",
      "439.0\n",
      "1041.0\n",
      "2029.0\n",
      "5000.0\n",
      "988.0\n"
     ]
    }
   ],
   "source": [
    "print(Min)\n",
    "print(q1)\n",
    "print(q2)\n",
    "print(q3)\n",
    "print(Max)\n",
    "\n",
    "print(IQR)"
   ]
  },
  {
   "cell_type": "code",
   "execution_count": 34,
   "id": "a0fccff3",
   "metadata": {},
   "outputs": [
    {
     "name": "stdout",
     "output_type": "stream",
     "text": [
      "3511.0\n",
      "-1043.0\n"
     ]
    }
   ],
   "source": [
    "print(upper_fence)\n",
    "print(lower_fence)"
   ]
  },
  {
   "cell_type": "code",
   "execution_count": 35,
   "id": "b95db79d",
   "metadata": {},
   "outputs": [
    {
     "data": {
      "text/plain": [
       "18107"
      ]
     },
     "execution_count": 35,
     "metadata": {},
     "output_type": "execute_result"
    }
   ],
   "source": [
    "df[df[\"Total_Amount\"]>upper_fence].shape[0]"
   ]
  },
  {
   "cell_type": "code",
   "execution_count": 36,
   "id": "eec2be99",
   "metadata": {},
   "outputs": [
    {
     "data": {
      "text/plain": [
       "6.126004817711857"
      ]
     },
     "execution_count": 36,
     "metadata": {},
     "output_type": "execute_result"
    }
   ],
   "source": [
    "(18107/df.shape[0])*100"
   ]
  },
  {
   "cell_type": "code",
   "execution_count": 37,
   "id": "cfbcad3c",
   "metadata": {},
   "outputs": [],
   "source": [
    "def hendel(a):\n",
    "    if a>upper_fence:\n",
    "        return 3511\n",
    "    else:\n",
    "        return a"
   ]
  },
  {
   "cell_type": "code",
   "execution_count": 38,
   "id": "2bad1ab3",
   "metadata": {},
   "outputs": [],
   "source": [
    "df[\"Total_Amount\"]=df[\"Total_Amount\"].apply(hendel)"
   ]
  },
  {
   "cell_type": "code",
   "execution_count": 39,
   "id": "128cbd90",
   "metadata": {},
   "outputs": [
    {
     "data": {
      "text/plain": [
       "0"
      ]
     },
     "execution_count": 39,
     "metadata": {},
     "output_type": "execute_result"
    }
   ],
   "source": [
    "df[df[\"Total_Amount\"]>upper_fence].shape[0]"
   ]
  },
  {
   "cell_type": "code",
   "execution_count": 40,
   "id": "be3b3565",
   "metadata": {},
   "outputs": [
    {
     "data": {
      "text/plain": [
       "<Axes: xlabel='Total_Amount'>"
      ]
     },
     "execution_count": 40,
     "metadata": {},
     "output_type": "execute_result"
    },
    {
     "data": {
      "image/png": "[encoded data removed]",
      "text/plain": [
       "<Figure size 640x480 with 1 Axes>"
      ]
     },
     "metadata": {},
     "output_type": "display_data"
    }
   ],
   "source": [
    "sns.boxplot(x=\"Total_Amount\",data=df)"
   ]
  },
  {
   "cell_type": "code",
   "execution_count": 41,
   "id": "07ff0201",
   "metadata": {},
   "outputs": [
    {
     "data": {
      "text/html": [
       "<div>\n",
       "<style scoped>\n",
       "    .dataframe tbody tr th:only-of-type {\n",
       "        vertical-align: middle;\n",
       "    }\n",
       "\n",
       "    .dataframe tbody tr th {\n",
       "        vertical-align: top;\n",
       "    }\n",
       "\n",
       "    .dataframe thead th {\n",
       "        text-align: right;\n",
       "    }\n",
       "</style>\n",
       "<table border=\"1\" class=\"dataframe\">\n",
       "  <thead>\n",
       "    <tr style=\"text-align: right;\">\n",
       "      <th></th>\n",
       "      <th>Customer_ID</th>\n",
       "      <th>Name</th>\n",
       "      <th>Phone</th>\n",
       "      <th>Address</th>\n",
       "      <th>City</th>\n",
       "      <th>State</th>\n",
       "      <th>Country</th>\n",
       "      <th>Age</th>\n",
       "      <th>Gender</th>\n",
       "      <th>Income</th>\n",
       "      <th>...</th>\n",
       "      <th>Month</th>\n",
       "      <th>Total_Purchases</th>\n",
       "      <th>Amount</th>\n",
       "      <th>Total_Amount</th>\n",
       "      <th>Product_Category</th>\n",
       "      <th>Product_Brand</th>\n",
       "      <th>Product_Type</th>\n",
       "      <th>Payment_Method</th>\n",
       "      <th>Order_Status</th>\n",
       "      <th>Ratings</th>\n",
       "    </tr>\n",
       "  </thead>\n",
       "  <tbody>\n",
       "  </tbody>\n",
       "</table>\n",
       "<p>0 rows × 23 columns</p>\n",
       "</div>"
      ],
      "text/plain": [
       "Empty DataFrame\n",
       "Columns: [Customer_ID, Name, Phone, Address, City, State, Country, Age, Gender, Income, Customer_Segment, Date, Year, Month, Total_Purchases, Amount, Total_Amount, Product_Category, Product_Brand, Product_Type, Payment_Method, Order_Status, Ratings]\n",
       "Index: []\n",
       "\n",
       "[0 rows x 23 columns]"
      ]
     },
     "execution_count": 41,
     "metadata": {},
     "output_type": "execute_result"
    }
   ],
   "source": [
    "df[df[\"Total_Amount\"]< lower_fence]"
   ]
  },
  {
   "cell_type": "code",
   "execution_count": 42,
   "id": "4de151a5",
   "metadata": {},
   "outputs": [
    {
     "data": {
      "text/html": [
       "<div>\n",
       "<style scoped>\n",
       "    .dataframe tbody tr th:only-of-type {\n",
       "        vertical-align: middle;\n",
       "    }\n",
       "\n",
       "    .dataframe tbody tr th {\n",
       "        vertical-align: top;\n",
       "    }\n",
       "\n",
       "    .dataframe thead th {\n",
       "        text-align: right;\n",
       "    }\n",
       "</style>\n",
       "<table border=\"1\" class=\"dataframe\">\n",
       "  <thead>\n",
       "    <tr style=\"text-align: right;\">\n",
       "      <th></th>\n",
       "      <th>Customer_ID</th>\n",
       "      <th>Name</th>\n",
       "      <th>Phone</th>\n",
       "      <th>Address</th>\n",
       "      <th>City</th>\n",
       "      <th>State</th>\n",
       "      <th>Country</th>\n",
       "      <th>Age</th>\n",
       "      <th>Gender</th>\n",
       "      <th>Income</th>\n",
       "      <th>...</th>\n",
       "      <th>Month</th>\n",
       "      <th>Total_Purchases</th>\n",
       "      <th>Amount</th>\n",
       "      <th>Total_Amount</th>\n",
       "      <th>Product_Category</th>\n",
       "      <th>Product_Brand</th>\n",
       "      <th>Product_Type</th>\n",
       "      <th>Payment_Method</th>\n",
       "      <th>Order_Status</th>\n",
       "      <th>Ratings</th>\n",
       "    </tr>\n",
       "  </thead>\n",
       "  <tbody>\n",
       "    <tr>\n",
       "      <th>0</th>\n",
       "      <td>37249.0</td>\n",
       "      <td>Michelle Harrington</td>\n",
       "      <td>1.414787e+09</td>\n",
       "      <td>3959 Amanda Burgs</td>\n",
       "      <td>Dortmund</td>\n",
       "      <td>Berlin</td>\n",
       "      <td>Germany</td>\n",
       "      <td>21.0</td>\n",
       "      <td>Male</td>\n",
       "      <td>Low</td>\n",
       "      <td>...</td>\n",
       "      <td>September</td>\n",
       "      <td>3.0</td>\n",
       "      <td>108.0</td>\n",
       "      <td>324.0</td>\n",
       "      <td>Clothing</td>\n",
       "      <td>Nike</td>\n",
       "      <td>Shorts</td>\n",
       "      <td>Debit Card</td>\n",
       "      <td>Shipped</td>\n",
       "      <td>5.0</td>\n",
       "    </tr>\n",
       "    <tr>\n",
       "      <th>1</th>\n",
       "      <td>69749.0</td>\n",
       "      <td>Kelsey Hill</td>\n",
       "      <td>6.852900e+09</td>\n",
       "      <td>82072 Dawn Centers</td>\n",
       "      <td>Nottingham</td>\n",
       "      <td>England</td>\n",
       "      <td>UK</td>\n",
       "      <td>19.0</td>\n",
       "      <td>Female</td>\n",
       "      <td>Low</td>\n",
       "      <td>...</td>\n",
       "      <td>December</td>\n",
       "      <td>2.0</td>\n",
       "      <td>403.0</td>\n",
       "      <td>807.0</td>\n",
       "      <td>Electronics</td>\n",
       "      <td>Samsung</td>\n",
       "      <td>Tablet</td>\n",
       "      <td>Credit Card</td>\n",
       "      <td>Processing</td>\n",
       "      <td>4.0</td>\n",
       "    </tr>\n",
       "  </tbody>\n",
       "</table>\n",
       "<p>2 rows × 23 columns</p>\n",
       "</div>"
      ],
      "text/plain": [
       "   Customer_ID                 Name         Phone             Address  \\\n",
       "0      37249.0  Michelle Harrington  1.414787e+09   3959 Amanda Burgs   \n",
       "1      69749.0          Kelsey Hill  6.852900e+09  82072 Dawn Centers   \n",
       "\n",
       "         City    State  Country   Age  Gender Income  ...      Month  \\\n",
       "0    Dortmund   Berlin  Germany  21.0    Male    Low  ...  September   \n",
       "1  Nottingham  England       UK  19.0  Female    Low  ...   December   \n",
       "\n",
       "  Total_Purchases  Amount Total_Amount  Product_Category  Product_Brand  \\\n",
       "0             3.0   108.0        324.0          Clothing           Nike   \n",
       "1             2.0   403.0        807.0       Electronics        Samsung   \n",
       "\n",
       "   Product_Type Payment_Method Order_Status Ratings  \n",
       "0        Shorts     Debit Card      Shipped     5.0  \n",
       "1        Tablet    Credit Card   Processing     4.0  \n",
       "\n",
       "[2 rows x 23 columns]"
      ]
     },
     "execution_count": 42,
     "metadata": {},
     "output_type": "execute_result"
    }
   ],
   "source": [
    "df.head(2)"
   ]
  },
  {
   "cell_type": "markdown",
   "id": "68b64f44",
   "metadata": {},
   "source": [
    "# Country wise Customer_ID"
   ]
  },
  {
   "cell_type": "code",
   "execution_count": 55,
   "id": "254b1553",
   "metadata": {},
   "outputs": [
    {
     "data": {
      "text/plain": [
       "Country\n",
       "Australia    44389\n",
       "Canada       44350\n",
       "Germany      51742\n",
       "UK           61758\n",
       "USA          93337\n",
       "Name: Customer_ID, dtype: int64"
      ]
     },
     "execution_count": 55,
     "metadata": {},
     "output_type": "execute_result"
    }
   ],
   "source": [
    "df.groupby([\"Country\"],as_index=True)[\"Customer_ID\"].count()"
   ]
  },
  {
   "cell_type": "code",
   "execution_count": 89,
   "id": "d297e93c",
   "metadata": {},
   "outputs": [
    {
     "data": {
      "text/plain": [
       "([<matplotlib.patches.Wedge at 0x258b3f2c950>,\n",
       "  <matplotlib.patches.Wedge at 0x258b3f2de50>,\n",
       "  <matplotlib.patches.Wedge at 0x258b3f2fad0>,\n",
       "  <matplotlib.patches.Wedge at 0x258b3f2f190>,\n",
       "  <matplotlib.patches.Wedge at 0x258b3f37150>],\n",
       " [Text(0.979827832689118, 0.499937414370785, 'Australia'),\n",
       "  Text(0.17070594892787994, 1.0866735843852249, 'Canada'),\n",
       "  Text(-0.8375738031766541, 0.7130709110826184, 'Germany'),\n",
       "  Text(-0.9647706917003506, -0.5284103636720494, 'UK'),\n",
       "  Text(0.6563675512064084, -1.0045803291540718, 'USA')],\n",
       " [Text(0.5344515451031552, 0.27269313511133725, '15.0%'),\n",
       "  Text(0.09311233577884359, 0.5927310460283044, '15.0%'),\n",
       "  Text(-0.45685843809635673, 0.38894776968142825, '17.5%'),\n",
       "  Text(-0.5262385591092821, -0.28822383473020874, '20.9%'),\n",
       "  Text(0.3828810715370715, -0.5860051920065418, '31.6%')])"
      ]
     },
     "execution_count": 89,
     "metadata": {},
     "output_type": "execute_result"
    },
    {
     "data": {
      "image/png": "[encoded data removed]",
      "text/plain": [
       "<Figure size 640x480 with 1 Axes>"
      ]
     },
     "metadata": {},
     "output_type": "display_data"
    }
   ],
   "source": [
    "customer_ID=[44389,44350,51742,61758,93337]\n",
    "country=[\"Australia\",\"Canada\",\"Germany\",\"UK\",\"USA\"]\n",
    "exp=[0,0,0,0,0.1]\n",
    "cl=[\"red\",\"green\",\"blue\",\"brown\",\"yellow\"]\n",
    "plt.pie(customer_ID,labels=country,explode=exp,autopct=\"%2.1f%%\",colors=cl)"
   ]
  },
  {
   "cell_type": "markdown",
   "id": "80afc183",
   "metadata": {},
   "source": [
    "highest ID of USA"
   ]
  },
  {
   "cell_type": "markdown",
   "id": "f18bb204",
   "metadata": {},
   "source": [
    "# Year wise total Amount"
   ]
  },
  {
   "cell_type": "code",
   "execution_count": 60,
   "id": "cab265eb",
   "metadata": {},
   "outputs": [
    {
     "data": {
      "text/plain": [
       "Year\n",
       "2023.0    329119281.0\n",
       "2024.0     64902873.0\n",
       "Name: Total_Amount, dtype: float64"
      ]
     },
     "execution_count": 60,
     "metadata": {},
     "output_type": "execute_result"
    }
   ],
   "source": [
    "df.groupby([\"Year\"],as_index=True)[\"Total_Amount\"].  sum()"
   ]
  },
  {
   "cell_type": "code",
   "execution_count": 69,
   "id": "a37fea84",
   "metadata": {},
   "outputs": [
    {
     "data": {
      "text/plain": [
       "<Axes: xlabel='Year', ylabel='Total_Amount'>"
      ]
     },
     "execution_count": 69,
     "metadata": {},
     "output_type": "execute_result"
    },
    {
     "data": {
      "image/png": "[encoded data removed]",
      "text/plain": [
       "<Figure size 640x480 with 1 Axes>"
      ]
     },
     "metadata": {},
     "output_type": "display_data"
    }
   ],
   "source": [
    "sns.barplot(x=\"Year\",y=\"Total_Amount\",data=df,estimator=\"sum\")"
   ]
  },
  {
   "cell_type": "markdown",
   "id": "a481e5a9",
   "metadata": {},
   "source": [
    "Highest sales occurred in 2023"
   ]
  },
  {
   "cell_type": "markdown",
   "id": "3fc860ad",
   "metadata": {},
   "source": [
    "# Year wise count of Total Amount"
   ]
  },
  {
   "cell_type": "code",
   "execution_count": 71,
   "id": "bd6b5826",
   "metadata": {},
   "outputs": [
    {
     "data": {
      "text/plain": [
       "Year\n",
       "2023.0    246767\n",
       "2024.0     48809\n",
       "Name: Total_Amount, dtype: int64"
      ]
     },
     "execution_count": 71,
     "metadata": {},
     "output_type": "execute_result"
    }
   ],
   "source": [
    "df.groupby([\"Year\"],as_index=True)[\"Total_Amount\"].count()"
   ]
  },
  {
   "cell_type": "code",
   "execution_count": 75,
   "id": "bcef45a2",
   "metadata": {},
   "outputs": [
    {
     "data": {
      "text/plain": [
       "<Axes: xlabel='Year', ylabel='count'>"
      ]
     },
     "execution_count": 75,
     "metadata": {},
     "output_type": "execute_result"
    },
    {
     "data": {
      "image/png": "[encoded data removed]",
      "text/plain": [
       "<Figure size 640x480 with 1 Axes>"
      ]
     },
     "metadata": {},
     "output_type": "display_data"
    }
   ],
   "source": [
    "sns.countplot(x=\"Year\",data=df)"
   ]
  },
  {
   "cell_type": "markdown",
   "id": "33810aa7",
   "metadata": {},
   "source": [
    "# Gender wise Total_Purchases"
   ]
  },
  {
   "cell_type": "code",
   "execution_count": 83,
   "id": "51c8c9a1",
   "metadata": {},
   "outputs": [
    {
     "data": {
      "text/plain": [
       "Gender\n",
       "Female    599003.0\n",
       "Male      985300.0\n",
       "Name: Total_Purchases, dtype: float64"
      ]
     },
     "execution_count": 83,
     "metadata": {},
     "output_type": "execute_result"
    }
   ],
   "source": [
    "df.groupby([\"Gender\"],as_index=True)[\"Total_Purchases\"].sum()\n"
   ]
  },
  {
   "cell_type": "code",
   "execution_count": 86,
   "id": "e377c3e1",
   "metadata": {},
   "outputs": [
    {
     "data": {
      "text/plain": [
       "([<matplotlib.patches.Wedge at 0x258e7d82090>,\n",
       "  <matplotlib.patches.Wedge at 0x258e7d7e0d0>],\n",
       " [Text(-0.41107899972978085, 1.020300963432439, 'Male'),\n",
       "  Text(0.4110789997297807, -1.020300963432439, 'Female')],\n",
       " [Text(-0.2242249089435168, 0.5565277982358757, '62.2%'),\n",
       "  Text(0.22422490894351674, -0.5565277982358757, '37.8%')])"
      ]
     },
     "execution_count": 86,
     "metadata": {},
     "output_type": "execute_result"
    },
    {
     "data": {
      "image/png": "[encoded data removed]",
      "text/plain": [
       "<Figure size 640x480 with 1 Axes>"
      ]
     },
     "metadata": {},
     "output_type": "display_data"
    }
   ],
   "source": [
    "purchase=[985300,599003]\n",
    "Gender=['Male','Female']\n",
    "cl=['blue','pink']\n",
    "plt.pie(purchase,labels=Gender,autopct='%2.1f%%',colors=cl)"
   ]
  },
  {
   "cell_type": "markdown",
   "id": "d1f13cc4",
   "metadata": {},
   "source": [
    "men's top purchase"
   ]
  },
  {
   "cell_type": "markdown",
   "id": "e5e76aa0",
   "metadata": {},
   "source": [
    "# Month wise total sales"
   ]
  },
  {
   "cell_type": "code",
   "execution_count": 94,
   "id": "6435ea99",
   "metadata": {},
   "outputs": [
    {
     "data": {
      "text/plain": [
       "Month\n",
       "April        40436\n",
       "August       32318\n",
       "December     18554\n",
       "February     17884\n",
       "January      36611\n",
       "July         30216\n",
       "June         18011\n",
       "March        18776\n",
       "May          27754\n",
       "November     18023\n",
       "October      18733\n",
       "September    18260\n",
       "Name: Total_Amount, dtype: int64"
      ]
     },
     "execution_count": 94,
     "metadata": {},
     "output_type": "execute_result"
    }
   ],
   "source": [
    "df.groupby([\"Month\"],as_index=True)[\"Total_Amount\"].count()"
   ]
  },
  {
   "cell_type": "code",
   "execution_count": 98,
   "id": "4e9c8d1b",
   "metadata": {},
   "outputs": [
    {
     "data": {
      "text/plain": [
       "<Axes: xlabel='Month', ylabel='count'>"
      ]
     },
     "execution_count": 98,
     "metadata": {},
     "output_type": "execute_result"
    },
    {
     "data": {
      "image/png": "[encoded data removed]",
      "text/plain": [
       "<Figure size 1000x500 with 1 Axes>"
      ]
     },
     "metadata": {},
     "output_type": "display_data"
    }
   ],
   "source": [
    "plt.figure(figsize=(10,5)) \n",
    "\n",
    "sns.countplot(x=\"Month\",data=df)"
   ]
  },
  {
   "cell_type": "markdown",
   "id": "8a9b859c",
   "metadata": {},
   "source": [
    "Highest sales take place in January and April"
   ]
  },
  {
   "cell_type": "markdown",
   "id": "11ef9d93",
   "metadata": {},
   "source": [
    "# Age wise total purchase"
   ]
  },
  {
   "cell_type": "code",
   "execution_count": 104,
   "id": "e51a0b33",
   "metadata": {},
   "outputs": [
    {
     "data": {
      "text/plain": [
       "Age\n",
       "20.0    33902\n",
       "46.0    30026\n",
       "26.0    24257\n",
       "22.0    22568\n",
       "34.0    20268\n",
       "23.0    17706\n",
       "19.0    16528\n",
       "67.0    10284\n",
       "21.0     7898\n",
       "24.0     6054\n",
       "55.0     5350\n",
       "48.0     4511\n",
       "43.0     2648\n",
       "59.0     2632\n",
       "36.0     2615\n",
       "33.0     2602\n",
       "64.0     2591\n",
       "56.0     2588\n",
       "30.0     2578\n",
       "44.0     2572\n",
       "62.0     2567\n",
       "65.0     2566\n",
       "60.0     2557\n",
       "47.0     2551\n",
       "39.0     2543\n",
       "40.0     2541\n",
       "52.0     2539\n",
       "35.0     2534\n",
       "41.0     2532\n",
       "61.0     2530\n",
       "50.0     2529\n",
       "57.0     2527\n",
       "58.0     2527\n",
       "28.0     2525\n",
       "37.0     2525\n",
       "25.0     2524\n",
       "49.0     2522\n",
       "27.0     2518\n",
       "63.0     2515\n",
       "38.0     2514\n",
       "42.0     2512\n",
       "45.0     2503\n",
       "51.0     2493\n",
       "29.0     2490\n",
       "32.0     2488\n",
       "53.0     2484\n",
       "54.0     2461\n",
       "18.0     2433\n",
       "66.0     2429\n",
       "31.0     2419\n",
       "Name: count, dtype: int64"
      ]
     },
     "execution_count": 104,
     "metadata": {},
     "output_type": "execute_result"
    }
   ],
   "source": [
    "df[\"Age\"].value_counts()\n",
    "   "
   ]
  },
  {
   "cell_type": "code",
   "execution_count": 111,
   "id": "9d63d836",
   "metadata": {},
   "outputs": [
    {
     "data": {
      "text/plain": [
       "<Axes: xlabel='Age', ylabel='Total_Purchases'>"
      ]
     },
     "execution_count": 111,
     "metadata": {},
     "output_type": "execute_result"
    },
    {
     "data": {
      "image/png": "[encoded data removed]",
      "text/plain": [
       "<Figure size 2000x700 with 1 Axes>"
      ]
     },
     "metadata": {},
     "output_type": "display_data"
    }
   ],
   "source": [
    "plt.figure(figsize=(20,7))\n",
    "sns.barplot(x=\"Age\",y=\"Total_Purchases\",data=df)"
   ]
  },
  {
   "cell_type": "markdown",
   "id": "624abb08",
   "metadata": {},
   "source": [
    "top 8 purchasing Age\n",
    "\n",
    "    20      33902\n",
    "    46      30026\n",
    "    26      24257\n",
    "    22      22568\n",
    "    34      20268\n",
    "    23      17706\n",
    "    19      16528\n",
    "    67      10284"
   ]
  },
  {
   "cell_type": "markdown",
   "id": "66840959",
   "metadata": {},
   "source": [
    "# highest seles Product_Brand "
   ]
  },
  {
   "cell_type": "code",
   "execution_count": 114,
   "id": "32d8de88",
   "metadata": {},
   "outputs": [
    {
     "data": {
      "text/plain": [
       "Product_Brand\n",
       "Pepsi                29723\n",
       "Coca-Cola            18050\n",
       "HarperCollins        18006\n",
       "Samsung              17975\n",
       "Zara                 17967\n",
       "Sony                 17949\n",
       "Adidas               17856\n",
       "Bed Bath & Beyond    17841\n",
       "Random House         17780\n",
       "Home Depot           17768\n",
       "Nike                 17743\n",
       "Penguin Books        17736\n",
       "Nestle               17731\n",
       "Apple                17672\n",
       "IKEA                 17624\n",
       "Whirepool             7329\n",
       "Mitsubhisi            6608\n",
       "BlueStar              2218\n",
       "Name: count, dtype: int64"
      ]
     },
     "execution_count": 114,
     "metadata": {},
     "output_type": "execute_result"
    }
   ],
   "source": [
    "df[\"Product_Brand\"].value_counts()"
   ]
  },
  {
   "cell_type": "code",
   "execution_count": 119,
   "id": "4a1ae1d5",
   "metadata": {},
   "outputs": [
    {
     "data": {
      "text/plain": [
       "<Axes: xlabel='Product_Brand', ylabel='count'>"
      ]
     },
     "execution_count": 119,
     "metadata": {},
     "output_type": "execute_result"
    },
    {
     "data": {
      "image/png": "[encoded data removed]",
      "text/plain": [
       "<Figure size 2000x800 with 1 Axes>"
      ]
     },
     "metadata": {},
     "output_type": "display_data"
    }
   ],
   "source": [
    "plt.figure(figsize=(20,8))\n",
    "\n",
    "sns.countplot(x=\"Product_Brand\",data=df)"
   ]
  },
  {
   "cell_type": "markdown",
   "id": "c56fb815",
   "metadata": {},
   "source": [
    "pepsi is highest sales brand "
   ]
  },
  {
   "cell_type": "markdown",
   "id": "d27fa509",
   "metadata": {},
   "source": [
    "# total sales of product type"
   ]
  },
  {
   "cell_type": "code",
   "execution_count": 123,
   "id": "947b1051",
   "metadata": {},
   "outputs": [
    {
     "data": {
      "text/plain": [
       "Product_Type\n",
       "Water                                 23987\n",
       "Smartphone                            18043\n",
       "Non-Fiction                           17784\n",
       "Fiction                               17664\n",
       "Juice                                 11986\n",
       "T-shirt                               11931\n",
       "Television                            11927\n",
       "Decorations                           11913\n",
       "Shoes                                 11868\n",
       "Tablet                                11830\n",
       "Soft Drink                            11800\n",
       "Furniture                             11728\n",
       "Fridge                                 7329\n",
       "Mitsubishi 1.5 Ton 3 Star Split AC     6608\n",
       "Thriller                               6134\n",
       "Kitchen                                6070\n",
       "Coffee                                 6033\n",
       "Children's                             6004\n",
       "Shirt                                  5994\n",
       "Jeans                                  5994\n",
       "Dress                                  5979\n",
       "Headphones                             5951\n",
       "Lighting                               5943\n",
       "Chocolate                              5941\n",
       "Shorts                                 5936\n",
       "Literature                             5936\n",
       "Bedding                                5894\n",
       "Bathroom                               5877\n",
       "Jacket                                 5864\n",
       "Laptop                                 5845\n",
       "Tools                                  5808\n",
       "Snacks                                 5757\n",
       "BlueStar AC                            2218\n",
       "Name: count, dtype: int64"
      ]
     },
     "execution_count": 123,
     "metadata": {},
     "output_type": "execute_result"
    }
   ],
   "source": [
    "df[\"Product_Type\"].value_counts()"
   ]
  },
  {
   "cell_type": "code",
   "execution_count": 124,
   "id": "7857753b",
   "metadata": {},
   "outputs": [
    {
     "data": {
      "text/plain": [
       "<Axes: xlabel='Product_Type', ylabel='count'>"
      ]
     },
     "execution_count": 124,
     "metadata": {},
     "output_type": "execute_result"
    },
    {
     "data": {
      "image/png": "[encoded data removed]",
      "text/plain": [
       "<Figure size 2000x800 with 1 Axes>"
      ]
     },
     "metadata": {},
     "output_type": "display_data"
    }
   ],
   "source": [
    "plt.figure(figsize=(20,8))\n",
    "\n",
    "sns.countplot(x=\"Product_Type\",data=df)   "
   ]
  },
  {
   "cell_type": "markdown",
   "id": "3c75f2aa",
   "metadata": {},
   "source": [
    "water is highest sales product"
   ]
  },
  {
   "cell_type": "markdown",
   "id": "a478e2ed",
   "metadata": {},
   "source": [
    "#  highest payment_mod"
   ]
  },
  {
   "cell_type": "code",
   "execution_count": 125,
   "id": "2d2d40b1",
   "metadata": {},
   "outputs": [
    {
     "data": {
      "text/plain": [
       "Payment_Method\n",
       "Credit Card    88270\n",
       "Debit Card     75181\n",
       "Cash           72308\n",
       "PayPal         59817\n",
       "Name: count, dtype: int64"
      ]
     },
     "execution_count": 125,
     "metadata": {},
     "output_type": "execute_result"
    }
   ],
   "source": [
    "\n",
    "df[\"Payment_Method\"].value_counts()"
   ]
  },
  {
   "cell_type": "code",
   "execution_count": 127,
   "id": "8aef8851",
   "metadata": {},
   "outputs": [
    {
     "data": {
      "text/plain": [
       "<Axes: xlabel='Payment_Method', ylabel='count'>"
      ]
     },
     "execution_count": 127,
     "metadata": {},
     "output_type": "execute_result"
    },
    {
     "data": {
      "image/png": "[encoded data removed]",
      "text/plain": [
       "<Figure size 1000x500 with 1 Axes>"
      ]
     },
     "metadata": {},
     "output_type": "display_data"
    }
   ],
   "source": [
    "plt.figure(figsize=(10,5))\n",
    "sns.countplot(x=\"Payment_Method\",data=df)   "
   ]
  },
  {
   "cell_type": "markdown",
   "id": "6b50098b",
   "metadata": {},
   "source": [
    "highest payment of Credit Card"
   ]
  },
  {
   "cell_type": "markdown",
   "id": "242994f1",
   "metadata": {},
   "source": [
    "# Product_Brand wise sum of Ratings"
   ]
  },
  {
   "cell_type": "code",
   "execution_count": 129,
   "id": "60f9167f",
   "metadata": {},
   "outputs": [
    {
     "data": {
      "text/plain": [
       "Product_Brand\n",
       "Adidas               55395.0\n",
       "Apple                54946.0\n",
       "Bed Bath & Beyond    55555.0\n",
       "BlueStar              9755.0\n",
       "Coca-Cola            56025.0\n",
       "HarperCollins        56058.0\n",
       "Home Depot           55091.0\n",
       "IKEA                 54866.0\n",
       "Mitsubhisi           25634.0\n",
       "Nestle               55190.0\n",
       "Nike                 55189.0\n",
       "Penguin Books        55148.0\n",
       "Pepsi                97214.0\n",
       "Random House         55297.0\n",
       "Samsung              56356.0\n",
       "Sony                 55929.0\n",
       "Whirepool            25403.0\n",
       "Zara                 55652.0\n",
       "Name: Ratings, dtype: float64"
      ]
     },
     "execution_count": 129,
     "metadata": {},
     "output_type": "execute_result"
    }
   ],
   "source": [
    "df.groupby([\"Product_Brand\"],as_index=True)[\"Ratings\"].sum()"
   ]
  },
  {
   "cell_type": "code",
   "execution_count": 133,
   "id": "e944ce28",
   "metadata": {},
   "outputs": [
    {
     "data": {
      "text/plain": [
       "<Axes: xlabel='Product_Brand', ylabel='Ratings'>"
      ]
     },
     "execution_count": 133,
     "metadata": {},
     "output_type": "execute_result"
    },
    {
     "data": {
      "image/png": "[encoded data removed]",
      "text/plain": [
       "<Figure size 2000x500 with 1 Axes>"
      ]
     },
     "metadata": {},
     "output_type": "display_data"
    }
   ],
   "source": [
    "plt.figure(figsize=(20,5))\n",
    "\n",
    "sns.barplot(x=\"Product_Brand\",y=\"Ratings\",data=df,estimator=\"sum\")"
   ]
  },
  {
   "cell_type": "markdown",
   "id": "51e6c53a",
   "metadata": {},
   "source": [
    "highest rating of pepsi"
   ]
  },
  {
   "cell_type": "code",
   "execution_count": null,
   "id": "c2cef4d2",
   "metadata": {},
   "outputs": [],
   "source": []
  }
 ],
 "metadata": {
  "kernelspec": {
   "display_name": "Python 3 (ipykernel)",
   "language": "python",
   "name": "python3"
  },
  "language_info": {
   "codemirror_mode": {
    "name": "ipython",
    "version": 3
   },
   "file_extension": ".py",
   "mimetype": "text/x-python",
   "name": "python",
   "nbconvert_exporter": "python",
   "pygments_lexer": "ipython3",
   "version": "3.11.5"
  }
 },
 "nbformat": 4,
 "nbformat_minor": 5
}
