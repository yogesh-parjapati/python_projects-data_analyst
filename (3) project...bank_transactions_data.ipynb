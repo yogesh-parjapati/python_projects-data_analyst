{
 "cells": [
  {
   "cell_type": "code",
   "execution_count": 2,
   "id": "164989e5",
   "metadata": {},
   "outputs": [],
   "source": [
    "import numpy as nd\n",
    "import pandas as pd\n",
    "import seaborn as sns\n",
    "import matplotlib.pyplot as plt\n",
    "\n",
    "import warnings\n",
    "warnings.filterwarnings(\"ignore\")\n",
    "\n",
    "encoding ='unicode_escape'"
   ]
  },
  {
   "cell_type": "code",
   "execution_count": 3,
   "id": "06cef004",
   "metadata": {},
   "outputs": [],
   "source": [
    "df=pd.read_csv(r\"C:\\Users\\pc\\Downloads\\archive (4)\\bank_transactions_data_2.csv\")"
   ]
  },
  {
   "cell_type": "code",
   "execution_count": 4,
   "id": "ec57ba25",
   "metadata": {},
   "outputs": [
    {
     "data": {
      "text/html": [
       "<div>\n",
       "<style scoped>\n",
       "    .dataframe tbody tr th:only-of-type {\n",
       "        vertical-align: middle;\n",
       "    }\n",
       "\n",
       "    .dataframe tbody tr th {\n",
       "        vertical-align: top;\n",
       "    }\n",
       "\n",
       "    .dataframe thead th {\n",
       "        text-align: right;\n",
       "    }\n",
       "</style>\n",
       "<table border=\"1\" class=\"dataframe\">\n",
       "  <thead>\n",
       "    <tr style=\"text-align: right;\">\n",
       "      <th></th>\n",
       "      <th>TransactionID</th>\n",
       "      <th>AccountID</th>\n",
       "      <th>TransactionAmount</th>\n",
       "      <th>TransactionDate</th>\n",
       "      <th>TransactionType</th>\n",
       "      <th>Location</th>\n",
       "      <th>IP Address</th>\n",
       "      <th>Channel</th>\n",
       "      <th>CustomerAge</th>\n",
       "      <th>CustomerOccupation</th>\n",
       "      <th>LoginAttempts</th>\n",
       "      <th>AccountBalance</th>\n",
       "      <th>PreviousTransactionDate</th>\n",
       "    </tr>\n",
       "  </thead>\n",
       "  <tbody>\n",
       "    <tr>\n",
       "      <th>0</th>\n",
       "      <td>TX000001</td>\n",
       "      <td>AC00128</td>\n",
       "      <td>14.09</td>\n",
       "      <td>4/11/2023 16:29</td>\n",
       "      <td>Debit</td>\n",
       "      <td>San Diego</td>\n",
       "      <td>162.198.218.92</td>\n",
       "      <td>ATM</td>\n",
       "      <td>70</td>\n",
       "      <td>Doctor</td>\n",
       "      <td>1</td>\n",
       "      <td>5112.21</td>\n",
       "      <td>11/4/2024 8:08</td>\n",
       "    </tr>\n",
       "    <tr>\n",
       "      <th>1</th>\n",
       "      <td>TX000002</td>\n",
       "      <td>AC00455</td>\n",
       "      <td>376.24</td>\n",
       "      <td>6/27/2023 16:44</td>\n",
       "      <td>Debit</td>\n",
       "      <td>Houston</td>\n",
       "      <td>13.149.61.4</td>\n",
       "      <td>ATM</td>\n",
       "      <td>68</td>\n",
       "      <td>Doctor</td>\n",
       "      <td>1</td>\n",
       "      <td>13758.91</td>\n",
       "      <td>11/4/2024 8:09</td>\n",
       "    </tr>\n",
       "    <tr>\n",
       "      <th>2</th>\n",
       "      <td>TX000003</td>\n",
       "      <td>AC00019</td>\n",
       "      <td>126.29</td>\n",
       "      <td>7/10/2023 18:16</td>\n",
       "      <td>Debit</td>\n",
       "      <td>Mesa</td>\n",
       "      <td>215.97.143.157</td>\n",
       "      <td>Online</td>\n",
       "      <td>19</td>\n",
       "      <td>Student</td>\n",
       "      <td>1</td>\n",
       "      <td>1122.35</td>\n",
       "      <td>11/4/2024 8:07</td>\n",
       "    </tr>\n",
       "    <tr>\n",
       "      <th>3</th>\n",
       "      <td>TX000004</td>\n",
       "      <td>AC00070</td>\n",
       "      <td>184.50</td>\n",
       "      <td>5/5/2023 16:32</td>\n",
       "      <td>Debit</td>\n",
       "      <td>Raleigh</td>\n",
       "      <td>200.13.225.150</td>\n",
       "      <td>Online</td>\n",
       "      <td>26</td>\n",
       "      <td>Student</td>\n",
       "      <td>1</td>\n",
       "      <td>8569.06</td>\n",
       "      <td>11/4/2024 8:09</td>\n",
       "    </tr>\n",
       "    <tr>\n",
       "      <th>4</th>\n",
       "      <td>TX000005</td>\n",
       "      <td>AC00411</td>\n",
       "      <td>13.45</td>\n",
       "      <td>10/16/2023 17:51</td>\n",
       "      <td>Credit</td>\n",
       "      <td>Atlanta</td>\n",
       "      <td>65.164.3.100</td>\n",
       "      <td>Online</td>\n",
       "      <td>26</td>\n",
       "      <td>Student</td>\n",
       "      <td>1</td>\n",
       "      <td>7429.40</td>\n",
       "      <td>11/4/2024 8:06</td>\n",
       "    </tr>\n",
       "    <tr>\n",
       "      <th>...</th>\n",
       "      <td>...</td>\n",
       "      <td>...</td>\n",
       "      <td>...</td>\n",
       "      <td>...</td>\n",
       "      <td>...</td>\n",
       "      <td>...</td>\n",
       "      <td>...</td>\n",
       "      <td>...</td>\n",
       "      <td>...</td>\n",
       "      <td>...</td>\n",
       "      <td>...</td>\n",
       "      <td>...</td>\n",
       "      <td>...</td>\n",
       "    </tr>\n",
       "    <tr>\n",
       "      <th>2507</th>\n",
       "      <td>TX002508</td>\n",
       "      <td>AC00297</td>\n",
       "      <td>856.21</td>\n",
       "      <td>4/26/2023 17:09</td>\n",
       "      <td>Credit</td>\n",
       "      <td>Colorado Springs</td>\n",
       "      <td>21.157.41.17</td>\n",
       "      <td>Branch</td>\n",
       "      <td>33</td>\n",
       "      <td>Doctor</td>\n",
       "      <td>1</td>\n",
       "      <td>12690.79</td>\n",
       "      <td>11/4/2024 8:11</td>\n",
       "    </tr>\n",
       "    <tr>\n",
       "      <th>2508</th>\n",
       "      <td>TX002509</td>\n",
       "      <td>AC00322</td>\n",
       "      <td>251.54</td>\n",
       "      <td>3/22/2023 17:36</td>\n",
       "      <td>Debit</td>\n",
       "      <td>Tucson</td>\n",
       "      <td>49.174.157.140</td>\n",
       "      <td>Branch</td>\n",
       "      <td>48</td>\n",
       "      <td>Doctor</td>\n",
       "      <td>1</td>\n",
       "      <td>254.75</td>\n",
       "      <td>11/4/2024 8:11</td>\n",
       "    </tr>\n",
       "    <tr>\n",
       "      <th>2509</th>\n",
       "      <td>TX002510</td>\n",
       "      <td>AC00095</td>\n",
       "      <td>28.63</td>\n",
       "      <td>8/21/2023 17:08</td>\n",
       "      <td>Debit</td>\n",
       "      <td>San Diego</td>\n",
       "      <td>58.1.27.124</td>\n",
       "      <td>Branch</td>\n",
       "      <td>56</td>\n",
       "      <td>Retired</td>\n",
       "      <td>1</td>\n",
       "      <td>3382.91</td>\n",
       "      <td>11/4/2024 8:08</td>\n",
       "    </tr>\n",
       "    <tr>\n",
       "      <th>2510</th>\n",
       "      <td>TX002511</td>\n",
       "      <td>AC00118</td>\n",
       "      <td>185.97</td>\n",
       "      <td>2/24/2023 16:24</td>\n",
       "      <td>Debit</td>\n",
       "      <td>Denver</td>\n",
       "      <td>21.190.11.223</td>\n",
       "      <td>Online</td>\n",
       "      <td>23</td>\n",
       "      <td>Student</td>\n",
       "      <td>1</td>\n",
       "      <td>1776.91</td>\n",
       "      <td>11/4/2024 8:12</td>\n",
       "    </tr>\n",
       "    <tr>\n",
       "      <th>2511</th>\n",
       "      <td>TX002512</td>\n",
       "      <td>AC00009</td>\n",
       "      <td>243.08</td>\n",
       "      <td>2/14/2023 16:21</td>\n",
       "      <td>Credit</td>\n",
       "      <td>Jacksonville</td>\n",
       "      <td>59.127.135.25</td>\n",
       "      <td>Online</td>\n",
       "      <td>24</td>\n",
       "      <td>Student</td>\n",
       "      <td>1</td>\n",
       "      <td>131.25</td>\n",
       "      <td>11/4/2024 8:07</td>\n",
       "    </tr>\n",
       "  </tbody>\n",
       "</table>\n",
       "<p>2512 rows × 13 columns</p>\n",
       "</div>"
      ],
      "text/plain": [
       "     TransactionID AccountID  TransactionAmount   TransactionDate  \\\n",
       "0         TX000001   AC00128              14.09   4/11/2023 16:29   \n",
       "1         TX000002   AC00455             376.24   6/27/2023 16:44   \n",
       "2         TX000003   AC00019             126.29   7/10/2023 18:16   \n",
       "3         TX000004   AC00070             184.50    5/5/2023 16:32   \n",
       "4         TX000005   AC00411              13.45  10/16/2023 17:51   \n",
       "...            ...       ...                ...               ...   \n",
       "2507      TX002508   AC00297             856.21   4/26/2023 17:09   \n",
       "2508      TX002509   AC00322             251.54   3/22/2023 17:36   \n",
       "2509      TX002510   AC00095              28.63   8/21/2023 17:08   \n",
       "2510      TX002511   AC00118             185.97   2/24/2023 16:24   \n",
       "2511      TX002512   AC00009             243.08   2/14/2023 16:21   \n",
       "\n",
       "     TransactionType          Location      IP Address Channel  CustomerAge  \\\n",
       "0              Debit         San Diego  162.198.218.92     ATM           70   \n",
       "1              Debit           Houston     13.149.61.4     ATM           68   \n",
       "2              Debit              Mesa  215.97.143.157  Online           19   \n",
       "3              Debit           Raleigh  200.13.225.150  Online           26   \n",
       "4             Credit           Atlanta    65.164.3.100  Online           26   \n",
       "...              ...               ...             ...     ...          ...   \n",
       "2507          Credit  Colorado Springs    21.157.41.17  Branch           33   \n",
       "2508           Debit            Tucson  49.174.157.140  Branch           48   \n",
       "2509           Debit         San Diego     58.1.27.124  Branch           56   \n",
       "2510           Debit            Denver   21.190.11.223  Online           23   \n",
       "2511          Credit      Jacksonville   59.127.135.25  Online           24   \n",
       "\n",
       "     CustomerOccupation  LoginAttempts  AccountBalance PreviousTransactionDate  \n",
       "0                Doctor              1         5112.21          11/4/2024 8:08  \n",
       "1                Doctor              1        13758.91          11/4/2024 8:09  \n",
       "2               Student              1         1122.35          11/4/2024 8:07  \n",
       "3               Student              1         8569.06          11/4/2024 8:09  \n",
       "4               Student              1         7429.40          11/4/2024 8:06  \n",
       "...                 ...            ...             ...                     ...  \n",
       "2507             Doctor              1        12690.79          11/4/2024 8:11  \n",
       "2508             Doctor              1          254.75          11/4/2024 8:11  \n",
       "2509            Retired              1         3382.91          11/4/2024 8:08  \n",
       "2510            Student              1         1776.91          11/4/2024 8:12  \n",
       "2511            Student              1          131.25          11/4/2024 8:07  \n",
       "\n",
       "[2512 rows x 13 columns]"
      ]
     },
     "execution_count": 4,
     "metadata": {},
     "output_type": "execute_result"
    }
   ],
   "source": [
    "df"
   ]
  },
  {
   "cell_type": "code",
   "execution_count": 5,
   "id": "f6a2e28a",
   "metadata": {},
   "outputs": [
    {
     "name": "stdout",
     "output_type": "stream",
     "text": [
      "<class 'pandas.core.frame.DataFrame'>\n",
      "RangeIndex: 2512 entries, 0 to 2511\n",
      "Data columns (total 13 columns):\n",
      " #   Column                   Non-Null Count  Dtype  \n",
      "---  ------                   --------------  -----  \n",
      " 0   TransactionID            2512 non-null   object \n",
      " 1   AccountID                2512 non-null   object \n",
      " 2   TransactionAmount        2512 non-null   float64\n",
      " 3   TransactionDate          2512 non-null   object \n",
      " 4   TransactionType          2512 non-null   object \n",
      " 5   Location                 2512 non-null   object \n",
      " 6   IP Address               2512 non-null   object \n",
      " 7   Channel                  2512 non-null   object \n",
      " 8   CustomerAge              2512 non-null   int64  \n",
      " 9   CustomerOccupation       2512 non-null   object \n",
      " 10  LoginAttempts            2512 non-null   int64  \n",
      " 11  AccountBalance           2512 non-null   float64\n",
      " 12  PreviousTransactionDate  2512 non-null   object \n",
      "dtypes: float64(2), int64(2), object(9)\n",
      "memory usage: 255.3+ KB\n"
     ]
    }
   ],
   "source": [
    "df.info()"
   ]
  },
  {
   "cell_type": "code",
   "execution_count": 6,
   "id": "dbdf4e88",
   "metadata": {},
   "outputs": [
    {
     "data": {
      "text/plain": [
       "TransactionID              0\n",
       "AccountID                  0\n",
       "TransactionAmount          0\n",
       "TransactionDate            0\n",
       "TransactionType            0\n",
       "Location                   0\n",
       "IP Address                 0\n",
       "Channel                    0\n",
       "CustomerAge                0\n",
       "CustomerOccupation         0\n",
       "LoginAttempts              0\n",
       "AccountBalance             0\n",
       "PreviousTransactionDate    0\n",
       "dtype: int64"
      ]
     },
     "execution_count": 6,
     "metadata": {},
     "output_type": "execute_result"
    }
   ],
   "source": [
    "pd.isnull(df).sum()"
   ]
  },
  {
   "cell_type": "markdown",
   "id": "ddbb61c4",
   "metadata": {},
   "source": [
    "# find the outliers and hendel the outliers"
   ]
  },
  {
   "cell_type": "code",
   "execution_count": 7,
   "id": "ab5aaebe",
   "metadata": {},
   "outputs": [
    {
     "data": {
      "text/html": [
       "<div>\n",
       "<style scoped>\n",
       "    .dataframe tbody tr th:only-of-type {\n",
       "        vertical-align: middle;\n",
       "    }\n",
       "\n",
       "    .dataframe tbody tr th {\n",
       "        vertical-align: top;\n",
       "    }\n",
       "\n",
       "    .dataframe thead th {\n",
       "        text-align: right;\n",
       "    }\n",
       "</style>\n",
       "<table border=\"1\" class=\"dataframe\">\n",
       "  <thead>\n",
       "    <tr style=\"text-align: right;\">\n",
       "      <th></th>\n",
       "      <th>TransactionAmount</th>\n",
       "      <th>CustomerAge</th>\n",
       "      <th>LoginAttempts</th>\n",
       "      <th>AccountBalance</th>\n",
       "    </tr>\n",
       "  </thead>\n",
       "  <tbody>\n",
       "    <tr>\n",
       "      <th>count</th>\n",
       "      <td>2512.000000</td>\n",
       "      <td>2512.000000</td>\n",
       "      <td>2512.000000</td>\n",
       "      <td>2512.000000</td>\n",
       "    </tr>\n",
       "    <tr>\n",
       "      <th>mean</th>\n",
       "      <td>297.593778</td>\n",
       "      <td>44.673965</td>\n",
       "      <td>1.124602</td>\n",
       "      <td>5114.302966</td>\n",
       "    </tr>\n",
       "    <tr>\n",
       "      <th>std</th>\n",
       "      <td>291.946243</td>\n",
       "      <td>17.792198</td>\n",
       "      <td>0.602662</td>\n",
       "      <td>3900.942499</td>\n",
       "    </tr>\n",
       "    <tr>\n",
       "      <th>min</th>\n",
       "      <td>0.260000</td>\n",
       "      <td>18.000000</td>\n",
       "      <td>1.000000</td>\n",
       "      <td>101.250000</td>\n",
       "    </tr>\n",
       "    <tr>\n",
       "      <th>25%</th>\n",
       "      <td>81.885000</td>\n",
       "      <td>27.000000</td>\n",
       "      <td>1.000000</td>\n",
       "      <td>1504.370000</td>\n",
       "    </tr>\n",
       "    <tr>\n",
       "      <th>50%</th>\n",
       "      <td>211.140000</td>\n",
       "      <td>45.000000</td>\n",
       "      <td>1.000000</td>\n",
       "      <td>4735.510000</td>\n",
       "    </tr>\n",
       "    <tr>\n",
       "      <th>75%</th>\n",
       "      <td>414.527500</td>\n",
       "      <td>59.000000</td>\n",
       "      <td>1.000000</td>\n",
       "      <td>7678.820000</td>\n",
       "    </tr>\n",
       "    <tr>\n",
       "      <th>max</th>\n",
       "      <td>1919.110000</td>\n",
       "      <td>80.000000</td>\n",
       "      <td>5.000000</td>\n",
       "      <td>14977.990000</td>\n",
       "    </tr>\n",
       "  </tbody>\n",
       "</table>\n",
       "</div>"
      ],
      "text/plain": [
       "       TransactionAmount  CustomerAge  LoginAttempts  AccountBalance\n",
       "count        2512.000000  2512.000000    2512.000000     2512.000000\n",
       "mean          297.593778    44.673965       1.124602     5114.302966\n",
       "std           291.946243    17.792198       0.602662     3900.942499\n",
       "min             0.260000    18.000000       1.000000      101.250000\n",
       "25%            81.885000    27.000000       1.000000     1504.370000\n",
       "50%           211.140000    45.000000       1.000000     4735.510000\n",
       "75%           414.527500    59.000000       1.000000     7678.820000\n",
       "max          1919.110000    80.000000       5.000000    14977.990000"
      ]
     },
     "execution_count": 7,
     "metadata": {},
     "output_type": "execute_result"
    }
   ],
   "source": [
    "df.describe()"
   ]
  },
  {
   "cell_type": "markdown",
   "id": "3d18a2a5",
   "metadata": {},
   "source": [
    "# TransactionAmount"
   ]
  },
  {
   "cell_type": "code",
   "execution_count": 8,
   "id": "3173320a",
   "metadata": {},
   "outputs": [],
   "source": [
    "Min=df[\"TransactionAmount\"].min()\n",
    "q1= df[\"TransactionAmount\"].quantile(0.25)\n",
    "q2= df[\"TransactionAmount\"].quantile(0.50)\n",
    "q3= df[\"TransactionAmount\"].quantile(0.75)\n",
    "Max=df[\"TransactionAmount\"].max()\n",
    "\n",
    "IQR=q3-q1\n",
    "\n",
    "upper_fence=q3+(1.5*IQR)\n",
    "lower_fence=q1-(1.5*IQR)"
   ]
  },
  {
   "cell_type": "code",
   "execution_count": 9,
   "id": "5e3eade5",
   "metadata": {},
   "outputs": [
    {
     "name": "stdout",
     "output_type": "stream",
     "text": [
      "0.26\n",
      "81.885\n",
      "211.14\n",
      "414.52750000000003\n",
      "1919.11\n"
     ]
    }
   ],
   "source": [
    "print(Min)\n",
    "print(q1)\n",
    "print(q2)\n",
    "print(q3)\n",
    "print(Max)"
   ]
  },
  {
   "cell_type": "code",
   "execution_count": 10,
   "id": "995ea899",
   "metadata": {},
   "outputs": [
    {
     "name": "stdout",
     "output_type": "stream",
     "text": [
      "913.49125\n",
      "-417.07875000000007\n"
     ]
    }
   ],
   "source": [
    "print(upper_fence)\n",
    "print(lower_fence)"
   ]
  },
  {
   "cell_type": "code",
   "execution_count": 11,
   "id": "0112fd6c",
   "metadata": {},
   "outputs": [
    {
     "data": {
      "text/plain": [
       "113"
      ]
     },
     "execution_count": 11,
     "metadata": {},
     "output_type": "execute_result"
    }
   ],
   "source": [
    "df[df[\"TransactionAmount\"]>upper_fence].shape[0]"
   ]
  },
  {
   "cell_type": "code",
   "execution_count": 12,
   "id": "938d3132",
   "metadata": {},
   "outputs": [
    {
     "data": {
      "text/plain": [
       "4.498407643312102"
      ]
     },
     "execution_count": 12,
     "metadata": {},
     "output_type": "execute_result"
    }
   ],
   "source": [
    "(113/df.shape[0])*100"
   ]
  },
  {
   "cell_type": "code",
   "execution_count": 13,
   "id": "3b79ac1e",
   "metadata": {},
   "outputs": [
    {
     "data": {
      "text/plain": [
       "<Axes: xlabel='TransactionAmount'>"
      ]
     },
     "execution_count": 13,
     "metadata": {},
     "output_type": "execute_result"
    },
    {
     "data": {
      "image/png": "[encoded data removed]",
      "text/plain": [
       "<Figure size 640x480 with 1 Axes>"
      ]
     },
     "metadata": {},
     "output_type": "display_data"
    }
   ],
   "source": [
    "sns.boxplot(x=\"TransactionAmount\",data=df)"
   ]
  },
  {
   "cell_type": "code",
   "execution_count": 14,
   "id": "b91b3c25",
   "metadata": {},
   "outputs": [],
   "source": [
    "def hendel(a):\n",
    "    if a>upper_fence:\n",
    "        return 913\n",
    "    else:\n",
    "        return a"
   ]
  },
  {
   "cell_type": "code",
   "execution_count": 15,
   "id": "cea57ec0",
   "metadata": {},
   "outputs": [],
   "source": [
    "df[\"TransactionAmount\"]=df[\"TransactionAmount\"].apply(hendel)"
   ]
  },
  {
   "cell_type": "code",
   "execution_count": 16,
   "id": "f83b21e5",
   "metadata": {},
   "outputs": [
    {
     "data": {
      "text/html": [
       "<div>\n",
       "<style scoped>\n",
       "    .dataframe tbody tr th:only-of-type {\n",
       "        vertical-align: middle;\n",
       "    }\n",
       "\n",
       "    .dataframe tbody tr th {\n",
       "        vertical-align: top;\n",
       "    }\n",
       "\n",
       "    .dataframe thead th {\n",
       "        text-align: right;\n",
       "    }\n",
       "</style>\n",
       "<table border=\"1\" class=\"dataframe\">\n",
       "  <thead>\n",
       "    <tr style=\"text-align: right;\">\n",
       "      <th></th>\n",
       "      <th>TransactionID</th>\n",
       "      <th>AccountID</th>\n",
       "      <th>TransactionAmount</th>\n",
       "      <th>TransactionDate</th>\n",
       "      <th>TransactionType</th>\n",
       "      <th>Location</th>\n",
       "      <th>IP Address</th>\n",
       "      <th>Channel</th>\n",
       "      <th>CustomerAge</th>\n",
       "      <th>CustomerOccupation</th>\n",
       "      <th>LoginAttempts</th>\n",
       "      <th>AccountBalance</th>\n",
       "      <th>PreviousTransactionDate</th>\n",
       "    </tr>\n",
       "  </thead>\n",
       "  <tbody>\n",
       "  </tbody>\n",
       "</table>\n",
       "</div>"
      ],
      "text/plain": [
       "Empty DataFrame\n",
       "Columns: [TransactionID, AccountID, TransactionAmount, TransactionDate, TransactionType, Location, IP Address, Channel, CustomerAge, CustomerOccupation, LoginAttempts, AccountBalance, PreviousTransactionDate]\n",
       "Index: []"
      ]
     },
     "execution_count": 16,
     "metadata": {},
     "output_type": "execute_result"
    }
   ],
   "source": [
    "df[df[\"TransactionAmount\"]>upper_fence]"
   ]
  },
  {
   "cell_type": "code",
   "execution_count": 17,
   "id": "ee18bd1a",
   "metadata": {},
   "outputs": [
    {
     "data": {
      "text/html": [
       "<div>\n",
       "<style scoped>\n",
       "    .dataframe tbody tr th:only-of-type {\n",
       "        vertical-align: middle;\n",
       "    }\n",
       "\n",
       "    .dataframe tbody tr th {\n",
       "        vertical-align: top;\n",
       "    }\n",
       "\n",
       "    .dataframe thead th {\n",
       "        text-align: right;\n",
       "    }\n",
       "</style>\n",
       "<table border=\"1\" class=\"dataframe\">\n",
       "  <thead>\n",
       "    <tr style=\"text-align: right;\">\n",
       "      <th></th>\n",
       "      <th>TransactionID</th>\n",
       "      <th>AccountID</th>\n",
       "      <th>TransactionAmount</th>\n",
       "      <th>TransactionDate</th>\n",
       "      <th>TransactionType</th>\n",
       "      <th>Location</th>\n",
       "      <th>IP Address</th>\n",
       "      <th>Channel</th>\n",
       "      <th>CustomerAge</th>\n",
       "      <th>CustomerOccupation</th>\n",
       "      <th>LoginAttempts</th>\n",
       "      <th>AccountBalance</th>\n",
       "      <th>PreviousTransactionDate</th>\n",
       "    </tr>\n",
       "  </thead>\n",
       "  <tbody>\n",
       "  </tbody>\n",
       "</table>\n",
       "</div>"
      ],
      "text/plain": [
       "Empty DataFrame\n",
       "Columns: [TransactionID, AccountID, TransactionAmount, TransactionDate, TransactionType, Location, IP Address, Channel, CustomerAge, CustomerOccupation, LoginAttempts, AccountBalance, PreviousTransactionDate]\n",
       "Index: []"
      ]
     },
     "execution_count": 17,
     "metadata": {},
     "output_type": "execute_result"
    }
   ],
   "source": [
    "df[df[\"TransactionAmount\"]<lower_fence]"
   ]
  },
  {
   "cell_type": "code",
   "execution_count": 18,
   "id": "ab83cda5",
   "metadata": {},
   "outputs": [
    {
     "data": {
      "text/plain": [
       "<Axes: xlabel='TransactionAmount'>"
      ]
     },
     "execution_count": 18,
     "metadata": {},
     "output_type": "execute_result"
    },
    {
     "data": {
      "image/png": "[encoded data removed]",
      "text/plain": [
       "<Figure size 640x480 with 1 Axes>"
      ]
     },
     "metadata": {},
     "output_type": "display_data"
    }
   ],
   "source": [
    "sns.boxplot(x=\"TransactionAmount\",data=df)"
   ]
  },
  {
   "cell_type": "markdown",
   "id": "2c236c32",
   "metadata": {},
   "source": [
    "# CustomerAge"
   ]
  },
  {
   "cell_type": "code",
   "execution_count": 18,
   "id": "337d68a9",
   "metadata": {},
   "outputs": [],
   "source": [
    "Min=df[\"CustomerAge\"].min()\n",
    "q1= df[\"CustomerAge\"].quantile(0.25)\n",
    "q2= df[\"CustomerAge\"].quantile(0.50)\n",
    "q3= df[\"CustomerAge\"].quantile(0.75)\n",
    "Max=df[\"CustomerAge\"].max()\n",
    "\n",
    "IQR=q3-q1\n",
    "\n",
    "upper_fence=q3+(1.5*IQR)\n",
    "lowerfence =q1-(1.5*IQR)\n"
   ]
  },
  {
   "cell_type": "code",
   "execution_count": 19,
   "id": "d3c1b76d",
   "metadata": {},
   "outputs": [
    {
     "name": "stdout",
     "output_type": "stream",
     "text": [
      "18\n",
      "27.0\n",
      "45.0\n",
      "59.0\n",
      "80\n"
     ]
    }
   ],
   "source": [
    "print(Min)\n",
    "print(q1)\n",
    "print(q2)\n",
    "print(q3)\n",
    "print(Max)"
   ]
  },
  {
   "cell_type": "code",
   "execution_count": 20,
   "id": "d6af5ff7",
   "metadata": {},
   "outputs": [
    {
     "name": "stdout",
     "output_type": "stream",
     "text": [
      "107.0\n",
      "-417.07875000000007\n"
     ]
    }
   ],
   "source": [
    "print(upper_fence)\n",
    "print(lower_fence)"
   ]
  },
  {
   "cell_type": "code",
   "execution_count": 21,
   "id": "1bf3e18d",
   "metadata": {},
   "outputs": [
    {
     "data": {
      "text/html": [
       "<div>\n",
       "<style scoped>\n",
       "    .dataframe tbody tr th:only-of-type {\n",
       "        vertical-align: middle;\n",
       "    }\n",
       "\n",
       "    .dataframe tbody tr th {\n",
       "        vertical-align: top;\n",
       "    }\n",
       "\n",
       "    .dataframe thead th {\n",
       "        text-align: right;\n",
       "    }\n",
       "</style>\n",
       "<table border=\"1\" class=\"dataframe\">\n",
       "  <thead>\n",
       "    <tr style=\"text-align: right;\">\n",
       "      <th></th>\n",
       "      <th>TransactionID</th>\n",
       "      <th>AccountID</th>\n",
       "      <th>TransactionAmount</th>\n",
       "      <th>TransactionDate</th>\n",
       "      <th>TransactionType</th>\n",
       "      <th>Location</th>\n",
       "      <th>IP Address</th>\n",
       "      <th>Channel</th>\n",
       "      <th>CustomerAge</th>\n",
       "      <th>CustomerOccupation</th>\n",
       "      <th>LoginAttempts</th>\n",
       "      <th>AccountBalance</th>\n",
       "      <th>PreviousTransactionDate</th>\n",
       "    </tr>\n",
       "  </thead>\n",
       "  <tbody>\n",
       "  </tbody>\n",
       "</table>\n",
       "</div>"
      ],
      "text/plain": [
       "Empty DataFrame\n",
       "Columns: [TransactionID, AccountID, TransactionAmount, TransactionDate, TransactionType, Location, IP Address, Channel, CustomerAge, CustomerOccupation, LoginAttempts, AccountBalance, PreviousTransactionDate]\n",
       "Index: []"
      ]
     },
     "execution_count": 21,
     "metadata": {},
     "output_type": "execute_result"
    }
   ],
   "source": [
    "df[df[\"CustomerAge\"]>upper_fence]"
   ]
  },
  {
   "cell_type": "code",
   "execution_count": 22,
   "id": "c9e0823f",
   "metadata": {},
   "outputs": [
    {
     "data": {
      "text/plain": [
       "<Axes: xlabel='CustomerAge'>"
      ]
     },
     "execution_count": 22,
     "metadata": {},
     "output_type": "execute_result"
    },
    {
     "data": {
      "image/png": "[encoded data removed]",
      "text/plain": [
       "<Figure size 640x480 with 1 Axes>"
      ]
     },
     "metadata": {},
     "output_type": "display_data"
    }
   ],
   "source": [
    "sns.boxplot(x=\"CustomerAge\",data=df)"
   ]
  },
  {
   "cell_type": "markdown",
   "id": "00ecb143",
   "metadata": {},
   "source": [
    "# AccountBalance"
   ]
  },
  {
   "cell_type": "code",
   "execution_count": 23,
   "id": "17c5f7c6",
   "metadata": {},
   "outputs": [],
   "source": [
    "Min=df[\"AccountBalance\"].min()\n",
    "q1= df[\"AccountBalance\"].quantile(0.25)\n",
    "q2= df[\"AccountBalance\"].quantile(0.50)\n",
    "q3= df[\"AccountBalance\"].quantile(0.75)\n",
    "Max=df[\"AccountBalance\"].max()\n",
    "\n",
    "IQR=q3-q1\n",
    "\n",
    "upper_fence=q3+(1.5*IQR)\n",
    "lowerfence =q1-(1.5*IQR)"
   ]
  },
  {
   "cell_type": "code",
   "execution_count": 24,
   "id": "4ba2fa39",
   "metadata": {},
   "outputs": [
    {
     "name": "stdout",
     "output_type": "stream",
     "text": [
      "101.25\n",
      "1504.3700000000001\n",
      "4735.51\n",
      "7678.82\n",
      "14977.99\n"
     ]
    }
   ],
   "source": [
    "print(Min)\n",
    "print(q1)\n",
    "print(q2)\n",
    "print(q3)\n",
    "print(Max)"
   ]
  },
  {
   "cell_type": "code",
   "execution_count": 25,
   "id": "ae24033c",
   "metadata": {},
   "outputs": [
    {
     "name": "stdout",
     "output_type": "stream",
     "text": [
      "16940.495\n",
      "-417.07875000000007\n"
     ]
    }
   ],
   "source": [
    "print(upper_fence)\n",
    "print(lower_fence)"
   ]
  },
  {
   "cell_type": "code",
   "execution_count": 26,
   "id": "860f1af0",
   "metadata": {},
   "outputs": [
    {
     "data": {
      "text/html": [
       "<div>\n",
       "<style scoped>\n",
       "    .dataframe tbody tr th:only-of-type {\n",
       "        vertical-align: middle;\n",
       "    }\n",
       "\n",
       "    .dataframe tbody tr th {\n",
       "        vertical-align: top;\n",
       "    }\n",
       "\n",
       "    .dataframe thead th {\n",
       "        text-align: right;\n",
       "    }\n",
       "</style>\n",
       "<table border=\"1\" class=\"dataframe\">\n",
       "  <thead>\n",
       "    <tr style=\"text-align: right;\">\n",
       "      <th></th>\n",
       "      <th>TransactionID</th>\n",
       "      <th>AccountID</th>\n",
       "      <th>TransactionAmount</th>\n",
       "      <th>TransactionDate</th>\n",
       "      <th>TransactionType</th>\n",
       "      <th>Location</th>\n",
       "      <th>IP Address</th>\n",
       "      <th>Channel</th>\n",
       "      <th>CustomerAge</th>\n",
       "      <th>CustomerOccupation</th>\n",
       "      <th>LoginAttempts</th>\n",
       "      <th>AccountBalance</th>\n",
       "      <th>PreviousTransactionDate</th>\n",
       "    </tr>\n",
       "  </thead>\n",
       "  <tbody>\n",
       "  </tbody>\n",
       "</table>\n",
       "</div>"
      ],
      "text/plain": [
       "Empty DataFrame\n",
       "Columns: [TransactionID, AccountID, TransactionAmount, TransactionDate, TransactionType, Location, IP Address, Channel, CustomerAge, CustomerOccupation, LoginAttempts, AccountBalance, PreviousTransactionDate]\n",
       "Index: []"
      ]
     },
     "execution_count": 26,
     "metadata": {},
     "output_type": "execute_result"
    }
   ],
   "source": [
    "df[df[\"AccountBalance\"]>upper_fence]"
   ]
  },
  {
   "cell_type": "code",
   "execution_count": 27,
   "id": "48e602a1",
   "metadata": {},
   "outputs": [
    {
     "data": {
      "text/html": [
       "<div>\n",
       "<style scoped>\n",
       "    .dataframe tbody tr th:only-of-type {\n",
       "        vertical-align: middle;\n",
       "    }\n",
       "\n",
       "    .dataframe tbody tr th {\n",
       "        vertical-align: top;\n",
       "    }\n",
       "\n",
       "    .dataframe thead th {\n",
       "        text-align: right;\n",
       "    }\n",
       "</style>\n",
       "<table border=\"1\" class=\"dataframe\">\n",
       "  <thead>\n",
       "    <tr style=\"text-align: right;\">\n",
       "      <th></th>\n",
       "      <th>TransactionID</th>\n",
       "      <th>AccountID</th>\n",
       "      <th>TransactionAmount</th>\n",
       "      <th>TransactionDate</th>\n",
       "      <th>TransactionType</th>\n",
       "      <th>Location</th>\n",
       "      <th>IP Address</th>\n",
       "      <th>Channel</th>\n",
       "      <th>CustomerAge</th>\n",
       "      <th>CustomerOccupation</th>\n",
       "      <th>LoginAttempts</th>\n",
       "      <th>AccountBalance</th>\n",
       "      <th>PreviousTransactionDate</th>\n",
       "    </tr>\n",
       "  </thead>\n",
       "  <tbody>\n",
       "  </tbody>\n",
       "</table>\n",
       "</div>"
      ],
      "text/plain": [
       "Empty DataFrame\n",
       "Columns: [TransactionID, AccountID, TransactionAmount, TransactionDate, TransactionType, Location, IP Address, Channel, CustomerAge, CustomerOccupation, LoginAttempts, AccountBalance, PreviousTransactionDate]\n",
       "Index: []"
      ]
     },
     "execution_count": 27,
     "metadata": {},
     "output_type": "execute_result"
    }
   ],
   "source": [
    "df[df[\"AccountBalance\"]<lower_fence]"
   ]
  },
  {
   "cell_type": "code",
   "execution_count": 28,
   "id": "34b7385d",
   "metadata": {},
   "outputs": [
    {
     "data": {
      "text/plain": [
       "<Axes: xlabel='AccountBalance'>"
      ]
     },
     "execution_count": 28,
     "metadata": {},
     "output_type": "execute_result"
    },
    {
     "data": {
      "image/png": "[encoded data removed]",
      "text/plain": [
       "<Figure size 640x480 with 1 Axes>"
      ]
     },
     "metadata": {},
     "output_type": "display_data"
    }
   ],
   "source": [
    "sns.boxplot(x=\"AccountBalance\",data=df)"
   ]
  },
  {
   "cell_type": "markdown",
   "id": "ba767b50",
   "metadata": {},
   "source": [
    "# sum of transactiom amount by customer occupation"
   ]
  },
  {
   "cell_type": "code",
   "execution_count": 30,
   "id": "b90cc9e5",
   "metadata": {},
   "outputs": [
    {
     "data": {
      "text/html": [
       "<div>\n",
       "<style scoped>\n",
       "    .dataframe tbody tr th:only-of-type {\n",
       "        vertical-align: middle;\n",
       "    }\n",
       "\n",
       "    .dataframe tbody tr th {\n",
       "        vertical-align: top;\n",
       "    }\n",
       "\n",
       "    .dataframe thead th {\n",
       "        text-align: right;\n",
       "    }\n",
       "</style>\n",
       "<table border=\"1\" class=\"dataframe\">\n",
       "  <thead>\n",
       "    <tr style=\"text-align: right;\">\n",
       "      <th></th>\n",
       "      <th>CustomerOccupation</th>\n",
       "      <th>TransactionAmount</th>\n",
       "    </tr>\n",
       "  </thead>\n",
       "  <tbody>\n",
       "    <tr>\n",
       "      <th>0</th>\n",
       "      <td>Doctor</td>\n",
       "      <td>177429.46</td>\n",
       "    </tr>\n",
       "    <tr>\n",
       "      <th>1</th>\n",
       "      <td>Engineer</td>\n",
       "      <td>172789.58</td>\n",
       "    </tr>\n",
       "    <tr>\n",
       "      <th>2</th>\n",
       "      <td>Retired</td>\n",
       "      <td>169611.52</td>\n",
       "    </tr>\n",
       "    <tr>\n",
       "      <th>3</th>\n",
       "      <td>Student</td>\n",
       "      <td>195650.22</td>\n",
       "    </tr>\n",
       "  </tbody>\n",
       "</table>\n",
       "</div>"
      ],
      "text/plain": [
       "  CustomerOccupation  TransactionAmount\n",
       "0             Doctor          177429.46\n",
       "1           Engineer          172789.58\n",
       "2            Retired          169611.52\n",
       "3            Student          195650.22"
      ]
     },
     "execution_count": 30,
     "metadata": {},
     "output_type": "execute_result"
    }
   ],
   "source": [
    "df.groupby([\"CustomerOccupation\"],as_index=False)[\"TransactionAmount\"].sum()\n"
   ]
  },
  {
   "cell_type": "code",
   "execution_count": 31,
   "id": "69380905",
   "metadata": {},
   "outputs": [
    {
     "data": {
      "text/plain": [
       "<Axes: xlabel='CustomerOccupation', ylabel='TransactionAmount'>"
      ]
     },
     "execution_count": 31,
     "metadata": {},
     "output_type": "execute_result"
    },
    {
     "data": {
      "image/png": "[encoded data removed]",
      "text/plain": [
       "<Figure size 640x480 with 1 Axes>"
      ]
     },
     "metadata": {},
     "output_type": "display_data"
    }
   ],
   "source": [
    "sns.barplot(x=\"CustomerOccupation\",y=\"TransactionAmount\",data=df)"
   ]
  },
  {
   "cell_type": "raw",
   "id": "fbedf3c5",
   "metadata": {},
   "source": [
    "Engineer Doctor Retired Student most of the transaction are done by students."
   ]
  },
  {
   "cell_type": "markdown",
   "id": "fe5bcdf7",
   "metadata": {},
   "source": [
    "# sum of login attermpts by customer occupation"
   ]
  },
  {
   "cell_type": "code",
   "execution_count": 32,
   "id": "4ad9b083",
   "metadata": {},
   "outputs": [
    {
     "data": {
      "text/html": [
       "<div>\n",
       "<style scoped>\n",
       "    .dataframe tbody tr th:only-of-type {\n",
       "        vertical-align: middle;\n",
       "    }\n",
       "\n",
       "    .dataframe tbody tr th {\n",
       "        vertical-align: top;\n",
       "    }\n",
       "\n",
       "    .dataframe thead th {\n",
       "        text-align: right;\n",
       "    }\n",
       "</style>\n",
       "<table border=\"1\" class=\"dataframe\">\n",
       "  <thead>\n",
       "    <tr style=\"text-align: right;\">\n",
       "      <th></th>\n",
       "      <th>CustomerOccupation</th>\n",
       "      <th>LoginAttempts</th>\n",
       "    </tr>\n",
       "  </thead>\n",
       "  <tbody>\n",
       "    <tr>\n",
       "      <th>0</th>\n",
       "      <td>Doctor</td>\n",
       "      <td>723</td>\n",
       "    </tr>\n",
       "    <tr>\n",
       "      <th>1</th>\n",
       "      <td>Engineer</td>\n",
       "      <td>699</td>\n",
       "    </tr>\n",
       "    <tr>\n",
       "      <th>2</th>\n",
       "      <td>Retired</td>\n",
       "      <td>675</td>\n",
       "    </tr>\n",
       "    <tr>\n",
       "      <th>3</th>\n",
       "      <td>Student</td>\n",
       "      <td>728</td>\n",
       "    </tr>\n",
       "  </tbody>\n",
       "</table>\n",
       "</div>"
      ],
      "text/plain": [
       "  CustomerOccupation  LoginAttempts\n",
       "0             Doctor            723\n",
       "1           Engineer            699\n",
       "2            Retired            675\n",
       "3            Student            728"
      ]
     },
     "execution_count": 32,
     "metadata": {},
     "output_type": "execute_result"
    }
   ],
   "source": [
    "df.groupby([\"CustomerOccupation\"],as_index=False)[\"LoginAttempts\"].sum()"
   ]
  },
  {
   "cell_type": "code",
   "execution_count": 33,
   "id": "c15da63a",
   "metadata": {},
   "outputs": [
    {
     "data": {
      "text/plain": [
       "<Axes: xlabel='CustomerOccupation', ylabel='LoginAttempts'>"
      ]
     },
     "execution_count": 33,
     "metadata": {},
     "output_type": "execute_result"
    },
    {
     "data": {
      "image/png": "[encoded data removed]",
      "text/plain": [
       "<Figure size 640x480 with 1 Axes>"
      ]
     },
     "metadata": {},
     "output_type": "display_data"
    }
   ],
   "source": [
    "sns.barplot(x=\"CustomerOccupation\",y=\"LoginAttempts\",data=df)"
   ]
  },
  {
   "cell_type": "raw",
   "id": "8b46448e",
   "metadata": {},
   "source": [
    " Doctor, Engineer, Doctor, Retired of these ,the maximum unumber of account login attemots were made by doctors and students"
   ]
  },
  {
   "cell_type": "markdown",
   "id": "8fb8857b",
   "metadata": {},
   "source": [
    "# How many payments have been made through branch ATM online?"
   ]
  },
  {
   "cell_type": "code",
   "execution_count": 34,
   "id": "27f030a6",
   "metadata": {},
   "outputs": [
    {
     "data": {
      "text/plain": [
       "Channel\n",
       "Branch    868\n",
       "ATM       833\n",
       "Online    811\n",
       "Name: count, dtype: int64"
      ]
     },
     "execution_count": 34,
     "metadata": {},
     "output_type": "execute_result"
    }
   ],
   "source": [
    "df['Channel'].value_counts()"
   ]
  },
  {
   "cell_type": "code",
   "execution_count": 35,
   "id": "ff975991",
   "metadata": {},
   "outputs": [
    {
     "data": {
      "image/png": "[encoded data removed]",
      "text/plain": [
       "<Figure size 640x480 with 1 Axes>"
      ]
     },
     "metadata": {},
     "output_type": "display_data"
    }
   ],
   "source": [
    "df=sns.countplot(x='Channel',data=df)\n",
    "\n",
    "#for bars in df.containers:\n",
    "   # df.bar_label(bars)"
   ]
  },
  {
   "cell_type": "raw",
   "id": "be27596e",
   "metadata": {},
   "source": [
    "people use branches the most"
   ]
  },
  {
   "cell_type": "markdown",
   "id": "a77d8d3a",
   "metadata": {},
   "source": [
    "# sum of transaction amount by channel"
   ]
  },
  {
   "cell_type": "code",
   "execution_count": 28,
   "id": "a330b504",
   "metadata": {},
   "outputs": [
    {
     "data": {
      "text/html": [
       "<div>\n",
       "<style scoped>\n",
       "    .dataframe tbody tr th:only-of-type {\n",
       "        vertical-align: middle;\n",
       "    }\n",
       "\n",
       "    .dataframe tbody tr th {\n",
       "        vertical-align: top;\n",
       "    }\n",
       "\n",
       "    .dataframe thead th {\n",
       "        text-align: right;\n",
       "    }\n",
       "</style>\n",
       "<table border=\"1\" class=\"dataframe\">\n",
       "  <thead>\n",
       "    <tr style=\"text-align: right;\">\n",
       "      <th></th>\n",
       "      <th>Channel</th>\n",
       "      <th>TransactionAmount</th>\n",
       "    </tr>\n",
       "  </thead>\n",
       "  <tbody>\n",
       "    <tr>\n",
       "      <th>0</th>\n",
       "      <td>ATM</td>\n",
       "      <td>243396.80</td>\n",
       "    </tr>\n",
       "    <tr>\n",
       "      <th>1</th>\n",
       "      <td>Branch</td>\n",
       "      <td>240986.36</td>\n",
       "    </tr>\n",
       "    <tr>\n",
       "      <th>2</th>\n",
       "      <td>Online</td>\n",
       "      <td>231097.62</td>\n",
       "    </tr>\n",
       "  </tbody>\n",
       "</table>\n",
       "</div>"
      ],
      "text/plain": [
       "  Channel  TransactionAmount\n",
       "0     ATM          243396.80\n",
       "1  Branch          240986.36\n",
       "2  Online          231097.62"
      ]
     },
     "execution_count": 28,
     "metadata": {},
     "output_type": "execute_result"
    }
   ],
   "source": [
    "df.groupby([\"Channel\"],as_index=False)[\"TransactionAmount\"].sum()"
   ]
  },
  {
   "cell_type": "code",
   "execution_count": 19,
   "id": "4c6a4aba",
   "metadata": {},
   "outputs": [
    {
     "data": {
      "text/plain": [
       "<Axes: xlabel='Channel', ylabel='TransactionAmount'>"
      ]
     },
     "execution_count": 19,
     "metadata": {},
     "output_type": "execute_result"
    },
    {
     "data": {
      "image/png": "[encoded data removed]",
      "text/plain": [
       "<Figure size 640x480 with 1 Axes>"
      ]
     },
     "metadata": {},
     "output_type": "display_data"
    }
   ],
   "source": [
    "sns.barplot(x='Channel',y='TransactionAmount',data=df)"
   ]
  },
  {
   "cell_type": "raw",
   "id": "849d4479",
   "metadata": {},
   "source": [
    "people use ATM the most to withdraw money."
   ]
  },
  {
   "cell_type": "markdown",
   "id": "e570a94d",
   "metadata": {},
   "source": [
    "# sum of account balance by CustomerOccupation"
   ]
  },
  {
   "cell_type": "code",
   "execution_count": 22,
   "id": "48de25a5",
   "metadata": {},
   "outputs": [
    {
     "data": {
      "text/html": [
       "<div>\n",
       "<style scoped>\n",
       "    .dataframe tbody tr th:only-of-type {\n",
       "        vertical-align: middle;\n",
       "    }\n",
       "\n",
       "    .dataframe tbody tr th {\n",
       "        vertical-align: top;\n",
       "    }\n",
       "\n",
       "    .dataframe thead th {\n",
       "        text-align: right;\n",
       "    }\n",
       "</style>\n",
       "<table border=\"1\" class=\"dataframe\">\n",
       "  <thead>\n",
       "    <tr style=\"text-align: right;\">\n",
       "      <th></th>\n",
       "      <th>CustomerOccupation</th>\n",
       "      <th>AccountBalance</th>\n",
       "    </tr>\n",
       "  </thead>\n",
       "  <tbody>\n",
       "    <tr>\n",
       "      <th>0</th>\n",
       "      <td>Doctor</td>\n",
       "      <td>5665745.25</td>\n",
       "    </tr>\n",
       "    <tr>\n",
       "      <th>1</th>\n",
       "      <td>Engineer</td>\n",
       "      <td>3429003.79</td>\n",
       "    </tr>\n",
       "    <tr>\n",
       "      <th>2</th>\n",
       "      <td>Retired</td>\n",
       "      <td>2720752.05</td>\n",
       "    </tr>\n",
       "    <tr>\n",
       "      <th>3</th>\n",
       "      <td>Student</td>\n",
       "      <td>1031627.96</td>\n",
       "    </tr>\n",
       "  </tbody>\n",
       "</table>\n",
       "</div>"
      ],
      "text/plain": [
       "  CustomerOccupation  AccountBalance\n",
       "0             Doctor      5665745.25\n",
       "1           Engineer      3429003.79\n",
       "2            Retired      2720752.05\n",
       "3            Student      1031627.96"
      ]
     },
     "execution_count": 22,
     "metadata": {},
     "output_type": "execute_result"
    }
   ],
   "source": [
    "df.groupby([\"CustomerOccupation\"],as_index=False)[\"AccountBalance\"].sum()"
   ]
  },
  {
   "cell_type": "code",
   "execution_count": 23,
   "id": "3f2a7ad4",
   "metadata": {},
   "outputs": [
    {
     "data": {
      "text/plain": [
       "<Axes: xlabel='CustomerOccupation', ylabel='AccountBalance'>"
      ]
     },
     "execution_count": 23,
     "metadata": {},
     "output_type": "execute_result"
    },
    {
     "data": {
      "image/png": "[encoded data removed]",
      "text/plain": [
       "<Figure size 640x480 with 1 Axes>"
      ]
     },
     "metadata": {},
     "output_type": "display_data"
    }
   ],
   "source": [
    "sns.barplot(x='CustomerOccupation', y='AccountBalance', data=df)"
   ]
  },
  {
   "cell_type": "raw",
   "id": "3584f271",
   "metadata": {},
   "source": [
    "doctor, student, Retired Engineer among these ,doctors have the highest account balance."
   ]
  },
  {
   "cell_type": "markdown",
   "id": "7bd51f1e",
   "metadata": {},
   "source": [
    "# Most frequent transactions"
   ]
  },
  {
   "cell_type": "code",
   "execution_count": 24,
   "id": "7634cd55",
   "metadata": {},
   "outputs": [
    {
     "data": {
      "text/plain": [
       "<seaborn.axisgrid.FacetGrid at 0x1bc379e45d0>"
      ]
     },
     "execution_count": 24,
     "metadata": {},
     "output_type": "execute_result"
    },
    {
     "data": {
      "image/png": "[encoded data removed]",
      "text/plain": [
       "<Figure size 500x500 with 1 Axes>"
      ]
     },
     "metadata": {},
     "output_type": "display_data"
    }
   ],
   "source": [
    "sns.displot(df[\"TransactionAmount\"],bins=20)"
   ]
  },
  {
   "cell_type": "raw",
   "id": "0d311dc9",
   "metadata": {},
   "source": [
    "Most transactions take place between 0 to 200 "
   ]
  },
  {
   "cell_type": "markdown",
   "id": "3620e23a",
   "metadata": {},
   "source": [
    "# sum of transaction amount by location"
   ]
  },
  {
   "cell_type": "code",
   "execution_count": 25,
   "id": "817b8dad",
   "metadata": {},
   "outputs": [
    {
     "data": {
      "text/plain": [
       "<Axes: xlabel='TransactionAmount', ylabel='Location'>"
      ]
     },
     "execution_count": 25,
     "metadata": {},
     "output_type": "execute_result"
    },
    {
     "data": {
      "image/png": "[encoded data removed]",
      "text/plain": [
       "<Figure size 600x1000 with 1 Axes>"
      ]
     },
     "metadata": {},
     "output_type": "display_data"
    }
   ],
   "source": [
    "plt.figure(figsize=(6,10))\n",
    "sns.barplot(x=\"TransactionAmount\", y=\"Location\",data=df)"
   ]
  },
  {
   "cell_type": "code",
   "execution_count": null,
   "id": "16698716",
   "metadata": {},
   "outputs": [],
   "source": [
    "Top 10 transaction location Austin,Colorado, Springs,Detroit,Fort Worth,Jacksonville,Los Angeles,Memphis,Oklahoma City\n",
    ",San Jose,Tucson\n"
   ]
  },
  {
   "cell_type": "markdown",
   "id": "aec899da",
   "metadata": {},
   "source": [
    "# sum of customer age by location"
   ]
  },
  {
   "cell_type": "code",
   "execution_count": 26,
   "id": "f254d4fc",
   "metadata": {},
   "outputs": [
    {
     "data": {
      "text/plain": [
       "<bound method NDFrame._add_numeric_operations.<locals>.all of     CustomerAge  LoginAttempts\n",
       "0            18             65\n",
       "1            19             69\n",
       "2            20             63\n",
       "3            21             73\n",
       "4            22             66\n",
       "..          ...            ...\n",
       "58           76             26\n",
       "59           77             19\n",
       "60           78             25\n",
       "61           79             27\n",
       "62           80             26\n",
       "\n",
       "[63 rows x 2 columns]>"
      ]
     },
     "execution_count": 26,
     "metadata": {},
     "output_type": "execute_result"
    }
   ],
   "source": [
    "df.groupby([\"CustomerAge\"],as_index=False)[\"LoginAttempts\"].sum().all"
   ]
  },
  {
   "cell_type": "code",
   "execution_count": 27,
   "id": "98f458b0",
   "metadata": {},
   "outputs": [
    {
     "data": {
      "text/plain": [
       "<Axes: xlabel='CustomerAge', ylabel='LoginAttempts'>"
      ]
     },
     "execution_count": 27,
     "metadata": {},
     "output_type": "execute_result"
    },
    {
     "data": {
      "image/png": "[encoded data removed]",
      "text/plain": [
       "<Figure size 1500x500 with 1 Axes>"
      ]
     },
     "metadata": {},
     "output_type": "display_data"
    }
   ],
   "source": [
    "plt.figure(figsize=(15,5))\n",
    "sns.barplot(x=\"CustomerAge\", y=\"LoginAttempts\",data=df)"
   ]
  },
  {
   "cell_type": "raw",
   "id": "36d86035",
   "metadata": {},
   "source": [
    "top 10 age grips making account login attempts\n",
    "19\t69\n",
    "21\t73\n",
    "22\t66\n",
    "23\t68\n",
    "25\t76\n",
    "26\t90\n",
    "27\t95\n",
    "28\t73\n",
    "53\t74\n",
    "58\t66\n"
   ]
  },
  {
   "cell_type": "code",
   "execution_count": null,
   "id": "a0eeb6fd",
   "metadata": {},
   "outputs": [],
   "source": []
  },
  {
   "cell_type": "code",
   "execution_count": null,
   "id": "ef165e56",
   "metadata": {},
   "outputs": [],
   "source": []
  },
  {
   "cell_type": "code",
   "execution_count": null,
   "id": "1fb96185",
   "metadata": {},
   "outputs": [],
   "source": []
  },
  {
   "cell_type": "code",
   "execution_count": null,
   "id": "89e4e6a0",
   "metadata": {},
   "outputs": [],
   "source": []
  },
  {
   "cell_type": "code",
   "execution_count": null,
   "id": "b75510dc",
   "metadata": {},
   "outputs": [],
   "source": []
  },
  {
   "cell_type": "code",
   "execution_count": null,
   "id": "7057ab7e",
   "metadata": {},
   "outputs": [],
   "source": []
  },
  {
   "cell_type": "code",
   "execution_count": null,
   "id": "4fc4675b",
   "metadata": {},
   "outputs": [],
   "source": []
  },
  {
   "cell_type": "code",
   "execution_count": null,
   "id": "efaa3dfd",
   "metadata": {},
   "outputs": [],
   "source": []
  },
  {
   "cell_type": "code",
   "execution_count": null,
   "id": "2c9360e1",
   "metadata": {},
   "outputs": [],
   "source": []
  },
  {
   "cell_type": "code",
   "execution_count": null,
   "id": "6915a59f",
   "metadata": {},
   "outputs": [],
   "source": []
  },
  {
   "cell_type": "code",
   "execution_count": null,
   "id": "8316b44f",
   "metadata": {},
   "outputs": [],
   "source": []
  },
  {
   "cell_type": "code",
   "execution_count": null,
   "id": "266fbcd2",
   "metadata": {},
   "outputs": [],
   "source": []
  },
  {
   "cell_type": "code",
   "execution_count": null,
   "id": "53f7e7ed",
   "metadata": {},
   "outputs": [],
   "source": []
  },
  {
   "cell_type": "code",
   "execution_count": null,
   "id": "2cc9d1f9",
   "metadata": {},
   "outputs": [],
   "source": [
    "+"
   ]
  }
 ],
 "metadata": {
  "kernelspec": {
   "display_name": "Python 3 (ipykernel)",
   "language": "python",
   "name": "python3"
  },
  "language_info": {
   "codemirror_mode": {
    "name": "ipython",
    "version": 3
   },
   "file_extension": ".py",
   "mimetype": "text/x-python",
   "name": "python",
   "nbconvert_exporter": "python",
   "pygments_lexer": "ipython3",
   "version": "3.11.5"
  }
 },
 "nbformat": 4,
 "nbformat_minor": 5
}
